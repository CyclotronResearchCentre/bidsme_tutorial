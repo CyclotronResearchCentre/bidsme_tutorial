{
 "cells": [
  {
   "cell_type": "markdown",
   "id": "b242b884",
   "metadata": {
    "jp-MarkdownHeadingCollapsed": true,
    "tags": []
   },
   "source": [
    "## 0 - Introduction"
   ]
  },
  {
   "cell_type": "markdown",
   "id": "78d9113e",
   "metadata": {
    "tags": []
   },
   "source": [
    "This tutorial will gide through the `prepation` step, where\n",
    "a generic human-organized (or even desorganized) dataset\n",
    "will be automatically origanized into a more standard form.\n",
    "\n",
    "This prepared (organized) dataset in one hand will help\n",
    "`bidsme` to retrieve and discover data, and on another hand\n",
    "will allow user to modifiy data (convert to another format)\n",
    "without fearing to overwrite original data.\n",
    "\n",
    "But first, we need load the paths to example dataset\n",
    "defined in [dataset installation](./00-tutoral-paths.ipynb):"
   ]
  },
  {
   "cell_type": "code",
   "execution_count": null,
   "id": "d8a4bb7e",
   "metadata": {},
   "outputs": [],
   "source": [
    "%run \"./Configuration/00-tutorial-paths.py\""
   ]
  },
  {
   "cell_type": "markdown",
   "id": "76921926",
   "metadata": {},
   "source": [
    "If you see any error, please verify the path definitions in `../01-installation/00-paths.ipynb`."
   ]
  },
  {
   "cell_type": "markdown",
   "id": "c2159c82-b409-43c4-ad0b-3171d561c183",
   "metadata": {},
   "source": [
    "We will also need a helper functions, defined in [Tools folder](../Tools/tools.py),\n",
    "we just need to execute the file:"
   ]
  },
  {
   "cell_type": "code",
   "execution_count": null,
   "id": "33c071cd-e62d-4280-ad8c-3da7f14bcd8e",
   "metadata": {},
   "outputs": [],
   "source": [
    "%run \"../Tools/tools.py\""
   ]
  },
  {
   "cell_type": "markdown",
   "id": "9203911c-ab55-46b0-b679-9627091fcb3f",
   "metadata": {},
   "source": [
    "This will make `clean_data` function aviable:"
   ]
  },
  {
   "cell_type": "code",
   "execution_count": null,
   "id": "10583db1-22e6-446b-8425-66e78ca29a54",
   "metadata": {},
   "outputs": [],
   "source": [
    "?clean_data"
   ]
  },
  {
   "cell_type": "markdown",
   "id": "62bcdc1f-d530-4ea1-9b98-bede7de3c464",
   "metadata": {},
   "source": [
    "We will use this function to reset the prepared datasets."
   ]
  },
  {
   "cell_type": "markdown",
   "id": "4957e6be-befe-4663-8c34-82a19c1c4f5f",
   "metadata": {},
   "source": [
    "Finally we will initialize `bidsme` and get the `logger` object\n",
    "which will control the logging of all bidsme functions:"
   ]
  },
  {
   "cell_type": "code",
   "execution_count": null,
   "id": "ab2a3c45-f2af-4e47-942d-c1a4d0fef42b",
   "metadata": {},
   "outputs": [],
   "source": [
    "import bidsme\n",
    "logger = bidsme.init()"
   ]
  },
  {
   "cell_type": "markdown",
   "id": "e8e68fe7-28c0-4e9b-9adf-a5b2f9983fbc",
   "metadata": {},
   "source": [
    "If the bidsme is installed in current environment, you should see\n",
    "the version of `bidsme`."
   ]
  },
  {
   "cell_type": "markdown",
   "id": "f4ea256e",
   "metadata": {
    "jp-MarkdownHeadingCollapsed": true,
    "tags": []
   },
   "source": [
    "## 1 - Preparation of the dataset"
   ]
  },
  {
   "cell_type": "markdown",
   "id": "e1c80891-1492-4f33-9f82-8e8715d5ecf9",
   "metadata": {
    "tags": []
   },
   "source": [
    "In order to bidsify a given dataset, it must first be \"prepared\",\n",
    "i.e. put in a standardised format that bidsme expects.\n",
    "\n",
    "To do so a `bidsme.prepare()` function should be executed on the dataset."
   ]
  },
  {
   "cell_type": "markdown",
   "id": "57818bd7-0a44-4680-9961-c0ae52926c0d",
   "metadata": {
    "jp-MarkdownHeadingCollapsed": true,
    "tags": []
   },
   "source": [
    "### Basic usage"
   ]
  },
  {
   "cell_type": "markdown",
   "id": "88225d46-911f-4d47-b926-9dc3ff384c6d",
   "metadata": {
    "tags": []
   },
   "source": [
    "The `prepare` contains several options and parameters to accomodate a large variety of datasets:"
   ]
  },
  {
   "cell_type": "code",
   "execution_count": null,
   "id": "1ba1e328",
   "metadata": {
    "scrolled": true,
    "tags": []
   },
   "outputs": [],
   "source": [
    "help(bidsme.prepare)"
   ]
  },
  {
   "cell_type": "markdown",
   "id": "5e76e1f4",
   "metadata": {},
   "source": [
    "The two mandatory arguments `source` and `destination` are the paths \n",
    "to the unbidsified dataset and to the prepared dataset, respectively.\n",
    "These paths are stored in `SOURCE_PATH` and `PREPARED_PATH`:"
   ]
  },
  {
   "cell_type": "code",
   "execution_count": null,
   "id": "16ac638e",
   "metadata": {
    "scrolled": true,
    "tags": []
   },
   "outputs": [],
   "source": [
    "bidsme.prepare(SOURCE_PATH, PREPARED_PATH)"
   ]
  },
  {
   "cell_type": "markdown",
   "id": "0c420870-df3d-494f-bb8f-4d5f9b8b9190",
   "metadata": {},
   "source": [
    "The command above will produce a few warnings and eventually do nothing\n",
    "because bidsme failed to find any data in source dataset.\n",
    "\n",
    "> **Warning**:\n",
    ">```\n",
    ">prepare(337) - WARNING Unable to identify data in folder /home/beliy/Works/bidscoin_example/example1/source/004/s01629\n",
    ">```\n",
    ">says exactly this: *I scanned folder example1/source/004/s01629 but didn't find any data*."
   ]
  },
  {
   "cell_type": "markdown",
   "id": "f15b7d8c-78e5-43f5-86a0-a297f875b8b0",
   "metadata": {
    "jp-MarkdownHeadingCollapsed": true,
    "tags": []
   },
   "source": [
    "### Getting logger report"
   ]
  },
  {
   "cell_type": "markdown",
   "id": "4ae816af-1dee-42bc-b142-0748cd851690",
   "metadata": {},
   "source": [
    "The main goal of the `bidsme.init()` function is to setup logging:"
   ]
  },
  {
   "cell_type": "code",
   "execution_count": null,
   "id": "97a4190f-aa4e-44b2-b588-d92cd92d69c5",
   "metadata": {},
   "outputs": [],
   "source": [
    "help(bidsme.init)"
   ]
  },
  {
   "cell_type": "markdown",
   "id": "dd528750-8d37-479e-ac6b-495f224b3d2e",
   "metadata": {},
   "source": [
    "The `level` and `formatter` parameters allow to setup the\n",
    "[verbosity level](https://docs.python.org/3/library/logging.html#logging-levels)\n",
    "and the [format](https://docs.python.org/3/library/logging.html#logrecord-attributes)\n",
    "of logging string."
   ]
  },
  {
   "cell_type": "markdown",
   "id": "04dc8a7d-245c-42ec-9bc2-791a175be888",
   "metadata": {},
   "source": [
    "The `log_dir` parameterer, if specified, will save all logging messages in\n",
    "provided directory."
   ]
  },
  {
   "cell_type": "markdown",
   "id": "45a00a30-c9b9-40a2-9590-4e14500f17bc",
   "metadata": {},
   "source": [
    "The `bidsme.init()` returns a [logger object](https://docs.python.org/3/library/logging.html),\n",
    "manipulating which allows to change logging level without re-running `bidsme.init()`:"
   ]
  },
  {
   "cell_type": "code",
   "execution_count": null,
   "id": "71257937-aa84-482b-894f-01018f697274",
   "metadata": {
    "scrolled": true,
    "tags": []
   },
   "outputs": [],
   "source": [
    "logger.setLevel(\"WARNING\")\n",
    "bidsme.prepare(SOURCE_PATH, PREPARED_PATH)"
   ]
  },
  {
   "cell_type": "markdown",
   "id": "d7d42782-5af0-43bd-96d7-38bc2ff209f4",
   "metadata": {},
   "source": [
    "The `logger` object also keep in memory the number of warnings and errors,\n",
    "the function `bidsme.tools.info.reporterrors()` will show these counts:"
   ]
  },
  {
   "cell_type": "code",
   "execution_count": null,
   "id": "9549fca1-e985-4f4e-ba82-cdb4e0f7eff3",
   "metadata": {},
   "outputs": [],
   "source": [
    "logger.setLevel(\"INFO\")\n",
    "bidsme.tools.info.reporterrors(logger)"
   ]
  },
  {
   "cell_type": "markdown",
   "id": "22528611-b756-479d-b13a-6fd3c301106f",
   "metadata": {},
   "source": [
    "The counter will increase at each call of bidsme functions,\n",
    "in order to track the errors only from last execution,\n",
    "we can reset the counters using `bidsme.tools.info,reseterrors()`:"
   ]
  },
  {
   "cell_type": "code",
   "execution_count": null,
   "id": "96d0a902-a300-4406-ae68-887dbeb2502c",
   "metadata": {},
   "outputs": [],
   "source": [
    "bidsme.tools.info.reseterrors(logger)\n",
    "bidsme.tools.info.reporterrors(logger)"
   ]
  },
  {
   "cell_type": "markdown",
   "id": "b412f376-8d6d-40ff-bb2a-1c724aa84429",
   "metadata": {
    "jp-MarkdownHeadingCollapsed": true,
    "tags": []
   },
   "source": [
    "### Data retrieval"
   ]
  },
  {
   "cell_type": "markdown",
   "id": "45f66123",
   "metadata": {},
   "source": [
    "Bidsme expects a naive organisation of source dataset:\n",
    "```\n",
    "$SOURCE_PATH/<subject folder>/<session folder>/<data files>\n",
    "```\n",
    "\n",
    "In the example dataset, this corresponds to:\n",
    "- `<subject folder>`: 001, 002, 003, 004 etc.\n",
    "- `<session folder>`: s01629, s01599 etc.\n",
    "\n",
    "The problem with this dataset is that the actual data are stored in `nii` subfolder:"
   ]
  },
  {
   "cell_type": "code",
   "execution_count": null,
   "id": "908d7800",
   "metadata": {
    "scrolled": true
   },
   "outputs": [],
   "source": [
    "!ls $SOURCE_PATH/001/s01513/nii"
   ]
  },
  {
   "cell_type": "markdown",
   "id": "d25ba227-830c-41c5-936a-6a869d5d0069",
   "metadata": {},
   "source": [
    "In this case, the user should communicate this information to bidsme using\n",
    "`data_dirs` option, which expects a dictionary with keys of folder names,\n",
    "and values the data type of included images.\n",
    "\n",
    "For example `data_dirs={\"nii\": \"MRI\"}` will tell that in `nii` sub-folder\n",
    "we have `MRI` images:"
   ]
  },
  {
   "cell_type": "code",
   "execution_count": null,
   "id": "174883af",
   "metadata": {
    "scrolled": true,
    "tags": []
   },
   "outputs": [],
   "source": [
    "bidsme.prepare(SOURCE_PATH, PREPARED_PATH, data_dirs={\"nii\": \"MRI\"})\n",
    "bidsme.tools.info.reporterrors(logger)\n",
    "bidsme.tools.info.reseterrors(logger)"
   ]
  },
  {
   "cell_type": "markdown",
   "id": "f0a92e51-4e44-4acf-9edb-9bbc1eecc829",
   "metadata": {},
   "source": [
    "> **CLI:**\n",
    ">```bash\n",
    "> bidsme prepare $SOURCE_PATH $PREPARED_PATH -r \"nii=MRI\"\n",
    ">```"
   ]
  },
  {
   "cell_type": "markdown",
   "id": "92e6f9ce",
   "metadata": {},
   "source": [
    "The data files from `SOURCE_PATH` are copied into `PREPARED_PATH`\n",
    "and organised into bids-like structure: `sub-001/ses-s01513/MRI`:"
   ]
  },
  {
   "cell_type": "code",
   "execution_count": null,
   "id": "479dd8cf",
   "metadata": {},
   "outputs": [],
   "source": [
    "!ls $PREPARED_PATH/sub-001/ses-s01513/MRI/006-cmrr_mbep2d_bold_mb2_invertpe/"
   ]
  },
  {
   "cell_type": "markdown",
   "id": "744edaeb",
   "metadata": {},
   "source": [
    "The top folder `sub-001` is the subject folder with `sub-` prefix; the name '001' is generated from the name of the `<subject folder>` in the source dataset.\n",
    "\n",
    "The first subfolder `ses-s01513` is the session folder with `ses-` prefix;\n",
    "the name is generated from the name of the `<session folder>` in source dataset.\n",
    "\n",
    "The second subfolder `MRI` is the data-type folder; it allows to distinguish files\n",
    "from differnt modalities, like `MRI`, `PET` or `EEG`; the data type was indicated by the user with `-r` or `--recfolder` option. If not specified by the user, information on data type is retrieved directly from the source data.\n",
    "\n",
    "Finally, the last hierarchical subfolder `006-cmrr_mbep2d_bold_mb2_invertpe` is the \"series\"\n",
    "folder which contains all images taken during one acquisition or series.\n",
    "The name of the folder is composed of two parts: \n",
    "- the number of acquisition in the current session \n",
    "(the value and meaning of the number depends on the data type;\n",
    "in the case of MRI, it corresponds to the series number)\n",
    "- the name of aquisition\n",
    "(the value and meaning of the number depends on the data type;\n",
    "if not defined, it will be the same as the name of data file)\n",
    "\n",
    "Files that share the same number and name of acquisition will be considered as part of the same series.\n",
    "\n",
    "> **Important**: Images in some data formats are consistent of several files.\n",
    "For example an EEG recording stored in BrainVision format usually consists of 3 files:\n",
    "`.vhdr`, `.vmrk` and `.eeg`. Another example is the MRI nifti images associated with a `.json`\n",
    "file containing the metadata extracted from DICOM header. \n",
    ">\n",
    ">`bidsme` view such files as one entity, and in what follows the \"file\" or \"image\" will refer\n",
    "to full set of files corresponding to same image."
   ]
  },
  {
   "cell_type": "markdown",
   "id": "614ce428",
   "metadata": {
    "jp-MarkdownHeadingCollapsed": true,
    "tags": []
   },
   "source": [
    "## 2 - Table of participants"
   ]
  },
  {
   "cell_type": "markdown",
   "id": "e4b9349b",
   "metadata": {},
   "source": [
    "The BIDS standard requires that each dataset contains a\n",
    "[table](https://bids-specification.readthedocs.io/en/stable/03-modality-agnostic-files.html#participants-file)\n",
    "with the list of participants and some basic demographic data.\n",
    "\n",
    "For convenience, this table is created by 'bidsme' during the preparation step.\n",
    "By default, the table file contains only one column `participant_id`, and serves as\n",
    "record keeper of the already prepared subjects.\n",
    "During this step, 'bidsme' will also automatically create the description file `participants.json`."
   ]
  },
  {
   "cell_type": "markdown",
   "id": "76fc96e3",
   "metadata": {},
   "source": [
    "**participants.tsv**: file with basic demographic data"
   ]
  },
  {
   "cell_type": "code",
   "execution_count": null,
   "id": "2d32e1bd",
   "metadata": {},
   "outputs": [],
   "source": [
    "import pandas\n",
    "pandas.read_csv(open(os.path.join(PREPARED_PATH, 'participants.tsv')), sep='\\t')"
   ]
  },
  {
   "cell_type": "markdown",
   "id": "0aa33b61",
   "metadata": {},
   "source": [
    "**participants.json**: description of the demographic file"
   ]
  },
  {
   "cell_type": "code",
   "execution_count": null,
   "id": "42a91dcc",
   "metadata": {},
   "outputs": [],
   "source": [
    "pandas.read_json(open(os.path.join(PREPARED_PATH, 'participants.json')))"
   ]
  },
  {
   "cell_type": "markdown",
   "id": "47958387-ee10-481b-b2a9-db8eb75b0755",
   "metadata": {
    "jp-MarkdownHeadingCollapsed": true,
    "tags": []
   },
   "source": [
    "### Adding information to the participants.tsv file"
   ]
  },
  {
   "cell_type": "markdown",
   "id": "31df821e-f956-4fbd-be65-b4bfd60ad396",
   "metadata": {
    "tags": []
   },
   "source": [
    "In order to add additional columns, `bidsme` needs a template `.json` file,\n",
    "which is just a sidecar json file for participants\n",
    "(see [documentation](https://bids-specification.readthedocs.io/en/stable/03-modality-agnostic-files.html#participants-file) for examples).\n",
    "An example of such file for the tutorial dataset can be found in the `resources` folder, e.g. `participants.json`:"
   ]
  },
  {
   "cell_type": "code",
   "execution_count": null,
   "id": "9942db47",
   "metadata": {},
   "outputs": [],
   "source": [
    "pandas.read_json(open(os.path.join(RESOURCES_PATH, 'participants.json')))"
   ]
  },
  {
   "cell_type": "markdown",
   "id": "ccf3adca",
   "metadata": {},
   "source": [
    "This template can be passed to `bidsme` using `--part-template` option:"
   ]
  },
  {
   "cell_type": "code",
   "execution_count": null,
   "id": "964e9805-b7dd-4f30-93ef-7ac927d76525",
   "metadata": {
    "scrolled": true,
    "tags": []
   },
   "outputs": [],
   "source": [
    "bidsme.prepare(SOURCE_PATH, PREPARED_PATH,\n",
    "               part_template=os.path.join(RESOURCES_PATH, \"participants.json\"),\n",
    "               data_dirs={\"nii\": \"MRI\"})\n",
    "bidsme.tools.info.reporterrors(logger)\n",
    "bidsme.tools.info.reseterrors(logger)"
   ]
  },
  {
   "cell_type": "markdown",
   "id": "201ec447-c033-4d9d-bca6-05890c4bc680",
   "metadata": {},
   "source": [
    "> **CLI:**\n",
    "> `bidsme prepare <source> <destination> --part-template <participants.json> -r \"nii=MRI\"`"
   ]
  },
  {
   "cell_type": "markdown",
   "id": "8c312244",
   "metadata": {},
   "source": [
    "If prepared dataset already contains `participants.tsv`, and the columns are different from \n",
    "the ones described in template, the preparation step will fail:\n",
    "\n",
    "**Error:**\n",
    "```\n",
    "bidsMeta.BidsTable(125) - ERROR participants.tsv: Columns ['age', 'sex', 'education', 'group', 'handiness', 'paired', 'ses_1', 'ses_2', 'ses_3'] not found in table\n",
    "```\n",
    "\n",
    "This is done to maintain participants table consistent for all participants.\n",
    "\n",
    ">To correct this error, the table in the prepared dataset must have columns sychronized to the template\n",
    "and already filled for the already processed participants.\n",
    ">\n",
    ">An alternative would consist in just removing the `participants.tsv`, as done by\n",
    "`clean_data` function, defined in [path definition notebook](../Installation/bidsme_path.ipynb)"
   ]
  },
  {
   "cell_type": "code",
   "execution_count": null,
   "id": "151b9c15",
   "metadata": {},
   "outputs": [],
   "source": [
    "clean_data(PREPARED_PATH)"
   ]
  },
  {
   "cell_type": "markdown",
   "id": "93781ced",
   "metadata": {},
   "source": [
    "Once the conflicts in the table are fixed, the `prepare` step should work:"
   ]
  },
  {
   "cell_type": "code",
   "execution_count": null,
   "id": "102247a2-5870-40cf-8fd0-38231deae4fb",
   "metadata": {
    "scrolled": true,
    "tags": []
   },
   "outputs": [],
   "source": [
    "bidsme.prepare(SOURCE_PATH, PREPARED_PATH,\n",
    "               part_template=os.path.join(RESOURCES_PATH, \"participants.json\"),\n",
    "               data_dirs={\"nii\": \"MRI\"})\n",
    "bidsme.tools.info.reporterrors(logger)\n",
    "bidsme.tools.info.reseterrors(logger)"
   ]
  },
  {
   "cell_type": "markdown",
   "id": "5b4b66da",
   "metadata": {},
   "source": [
    "If the prepared dataset already contains some data, you may encounter the following\n",
    "warning message:\n",
    "\n",
    "**Warning:**\n",
    "```\n",
    "Modules.MRI.hmriNIFTI(233) - WARNING 014-cmrr_mbep2d_diff_NODDI_noise/40: File s1629-0014-00005-000281-01.nii exists at destination\n",
    "```\n",
    "This warning just indicates that the files in prepeared dataset are being overwritten.\n",
    "\n",
    "Now the `participants.json` file in the prepared dataset is updated automatically\n",
    "to match the template:"
   ]
  },
  {
   "cell_type": "code",
   "execution_count": null,
   "id": "55f0d5c1",
   "metadata": {},
   "outputs": [],
   "source": [
    "pandas.read_json(open(os.path.join(RESOURCES_PATH, 'participants.json')))"
   ]
  },
  {
   "cell_type": "markdown",
   "id": "12a67140",
   "metadata": {
    "tags": []
   },
   "source": [
    "The  `participants.tsv` contains now all the columns defined in template,\n",
    "including age, sex, education etc.\n",
    "\n",
    "The values for all subjects are `n/a` -- not available;\n",
    "these values are supposed to be filled either manually or using plugins,\n",
    "as it will be demonstrated in a dedicated [tutorial](04-advanced-preparation.ipynb).\n",
    "\n",
    "> BIDS require to use `n/a` as indicator of missing/non defined values. These values are parced as `NaN` by pandas."
   ]
  },
  {
   "cell_type": "code",
   "execution_count": null,
   "id": "1f759436",
   "metadata": {},
   "outputs": [],
   "source": [
    "pandas.read_csv(open(os.path.join(PREPARED_PATH, 'participants.tsv')), sep='\\t')"
   ]
  },
  {
   "cell_type": "markdown",
   "id": "c0c496e5-de71-407a-adc1-3e5a53f69fb4",
   "metadata": {
    "jp-MarkdownHeadingCollapsed": true,
    "tags": []
   },
   "source": [
    "### Resolving conflicts in `participants.tsv`"
   ]
  },
  {
   "cell_type": "markdown",
   "id": "31db1f5b",
   "metadata": {
    "tags": []
   },
   "source": [
    "`bidsme` tracks also values in the `participants.tsv` table,\n",
    "and will report any inconsistency, for example if same subject\n",
    "previously was reported as left-handed and now reported as right-handed.\n",
    "\n",
    "To demonstrate this, you can manually change some values in `participants.tsv`\n",
    "and re-run the preparation step:"
   ]
  },
  {
   "cell_type": "code",
   "execution_count": null,
   "id": "f43b235b-0fcd-449e-b0f5-3c65bf8c9f8b",
   "metadata": {
    "scrolled": true,
    "tags": []
   },
   "outputs": [],
   "source": [
    "bidsme.prepare(SOURCE_PATH, PREPARED_PATH,\n",
    "               data_dirs={\"nii\": \"MRI\"})\n",
    "bidsme.tools.info.reporterrors(logger)\n",
    "bidsme.tools.info.reseterrors(logger)"
   ]
  },
  {
   "cell_type": "markdown",
   "id": "eed587a1",
   "metadata": {},
   "source": [
    "You will encounter an error (the list of participants may varie):\n",
    "\n",
    "**Error:**\n",
    "```\n",
    "prepare(373) - CRITICAL Participant list contains one or several duplicated entries: ['sub-001', 'sub-001', 'sub-002', 'sub-002', 'sub-003', 'sub-003', 'sub-004', 'sub-004']\n",
    "```\n",
    "\n",
    "This error is raised when the values of the table from the previous run\n",
    "do not match those in the new run.\n",
    "`bidsme` will put all non-conflicting participants in the `participants.tsv` table,\n",
    "and all conflicting ones in `__duplicated.tsv`:"
   ]
  },
  {
   "cell_type": "code",
   "execution_count": null,
   "id": "cd7548ed",
   "metadata": {},
   "outputs": [],
   "source": [
    "!ls $PREPARED_PATH/*.tsv"
   ]
  },
  {
   "cell_type": "markdown",
   "id": "1fe5a13a",
   "metadata": {},
   "source": [
    "**participants.tsv** contains all subjects without conflicts"
   ]
  },
  {
   "cell_type": "code",
   "execution_count": null,
   "id": "a124f9e6",
   "metadata": {},
   "outputs": [],
   "source": [
    "pandas.read_csv(open(os.path.join(PREPARED_PATH, 'participants.tsv')), sep='\\t')"
   ]
  },
  {
   "cell_type": "markdown",
   "id": "18d816ec",
   "metadata": {},
   "source": [
    "**__duplicated.tsv** contains the original entry and the new entries for\n",
    "the each subject with conflicts:"
   ]
  },
  {
   "cell_type": "code",
   "execution_count": null,
   "id": "65089218",
   "metadata": {},
   "outputs": [],
   "source": [
    "pandas.read_csv(open(os.path.join(PREPARED_PATH, '__duplicated.tsv')), sep='\\t')"
   ]
  },
  {
   "cell_type": "markdown",
   "id": "fd45c99d",
   "metadata": {},
   "source": [
    "To resolve the conflict, you just need to move the correct entries from\n",
    "the `__duplictaed.tsv` into the `participants.tsv`,\n",
    "then remove the `__duplicated.tsv`."
   ]
  },
  {
   "cell_type": "markdown",
   "id": "2be02e95",
   "metadata": {},
   "source": [
    "> **Note:** The option `--part-template` may be used only once, to create the initial table; for later runs,\n",
    "`bidsme` will load the template directly from the `participants.json` file in the prepared dataset."
   ]
  },
  {
   "cell_type": "markdown",
   "id": "6b64e80a",
   "metadata": {
    "jp-MarkdownHeadingCollapsed": true,
    "tags": []
   },
   "source": [
    "## 3 - Running on subset of subjects"
   ]
  },
  {
   "cell_type": "markdown",
   "id": "420425ab-c7fa-4ae8-b0d7-d928422e99e9",
   "metadata": {},
   "source": [
    "By default `bidsme` runs on all discovereded sujects in the source dataset,\n",
    "but sometimes you will be needed to run only on the selected ones."
   ]
  },
  {
   "cell_type": "markdown",
   "id": "cd30ef72-027e-4573-8a7e-b707c9144d5f",
   "metadata": {},
   "source": [
    "Conviently, the `prepare` function can be run only on a selected subset of participants\n",
    "from source dataset using one of the following options:"
   ]
  },
  {
   "cell_type": "markdown",
   "id": "d8c8d1c5-cb1c-4a55-a37f-bf36150a3e3e",
   "metadata": {},
   "source": [
    "```\n",
    "sub_list: list\n",
    "        list of subject to process. Subjects\n",
    "        are checked after plugin and must\n",
    "        start with 'sub-', as in destination\n",
    "        folder\n",
    "    sub_skip_tsv: bool\n",
    "        if set to True, subjects found in\n",
    "        destination/participants.tsv will be\n",
    "        ignored\n",
    "    sub_skip_dir: bool\n",
    "        if set to true, subjects with already\n",
    "        created directories will be ignored\n",
    "        Can conflict with sub_no_dir\n",
    "    ses_skip_dir: bool\n",
    "        if set to True, sessions with already\n",
    "        created directories will be ignored\n",
    "        Can conflict with ses_no_dir\n",
    "```"
   ]
  },
  {
   "cell_type": "markdown",
   "id": "42cbfaac-d5c9-43b2-a720-bef7b8dbfa53",
   "metadata": {},
   "source": [
    ">**CLI**\n",
    ">```\n",
    "--participants ID [ID ...]\n",
    "                        Space-separated list of subjects to process, as\n",
    "                        defined in source folder (i.e. before affecting by\n",
    "                        plugin) (default: None)\n",
    "  --skip-in-tsv         Skip participants that exists in the participants.tsv\n",
    "                        file in destination dataset. (default: False)\n",
    "  --skip-existing       Skip participants with corresponding folders exists in\n",
    "                        destination dataset. (default: False)\n",
    "  --skip-existing-sessions\n",
    "                        Skip sessions that exists in destination dataset.\n",
    "                        (default: False)\n",
    ">```"
   ]
  },
  {
   "cell_type": "markdown",
   "id": "c6910581-8c63-4621-add2-1644e84e0993",
   "metadata": {},
   "source": [
    "For example, in order to run only on third subject, it's enough to add to previous `prepare()`\n",
    "function an option `sub_list=[sub-003]` (Note that the subject id is in it's bidsified form, containing `sub-`.):"
   ]
  },
  {
   "cell_type": "markdown",
   "id": "eef31d53-57ed-45af-9dcf-198093613a9d",
   "metadata": {
    "jp-MarkdownHeadingCollapsed": true,
    "tags": []
   },
   "source": [
    "### Providing explicit list of participants"
   ]
  },
  {
   "cell_type": "markdown",
   "id": "2733b226-7180-4e2c-92a7-16a71dc28786",
   "metadata": {},
   "source": [
    "The `--participants`, followed by a list of subject ids will tell `bidsme` to run only\n",
    "on the specified subjects.\n",
    "\n",
    "For example, if we want to run the preparation step only for subject `003` we can add\n",
    "`--participant sub-003`. \n",
    "\n",
    "> **Note that the provoded sunbject id must starts with `sub-`, in other words, you need\n",
    "to give the bidsified subject id.**"
   ]
  },
  {
   "cell_type": "code",
   "execution_count": null,
   "id": "567ea885-a84d-4814-a909-d3a3f6a87c2d",
   "metadata": {
    "scrolled": true,
    "tags": []
   },
   "outputs": [],
   "source": [
    "clean_data(PREPARED_PATH)\n",
    "bidsme.prepare(SOURCE_PATH, PREPARED_PATH,\n",
    "               part_template=os.path.join(RESOURCES_PATH, \"participants.json\"),\n",
    "               data_dirs={\"nii\": \"MRI\"},\n",
    "               sub_list=[\"sub-003\", \"sub-004\"])\n",
    "bidsme.tools.info.reporterrors(logger)\n",
    "bidsme.tools.info.reseterrors(logger)"
   ]
  },
  {
   "cell_type": "markdown",
   "id": "eb78bc0b",
   "metadata": {},
   "source": [
    "`bidsme` will scan full dataset, and skip all subjectst hat are not in arguments of `sub_list`.\n",
    "\n",
    "```\n",
    "prepare(280) - INFO Skipping subject 'sub-001'\n",
    "```\n",
    "\n",
    "All subjects are skipped, except the requested one:"
   ]
  },
  {
   "cell_type": "code",
   "execution_count": null,
   "id": "0fd0fdc9",
   "metadata": {},
   "outputs": [],
   "source": [
    "!ls $PREPARED_PATH"
   ]
  },
  {
   "cell_type": "markdown",
   "id": "dc4f6ce6",
   "metadata": {},
   "source": [
    "Running on a short list of subject is performed in the same way,\n",
    "you just need to give that list to `--participants` option:"
   ]
  },
  {
   "cell_type": "markdown",
   "id": "17502c26-15d3-491c-b63b-55d17ebc7832",
   "metadata": {},
   "source": [
    "> **CLI:**\n",
    "> `bidsme prepare <source> <destination> -r \"nii=MRI\" --part-template <participants.json> --participant sub-001 sub-004`"
   ]
  },
  {
   "cell_type": "markdown",
   "id": "3a3680ac",
   "metadata": {},
   "source": [
    "Now `renamed` folder should contain only subjects 3 and 4:"
   ]
  },
  {
   "cell_type": "code",
   "execution_count": null,
   "id": "040182d4",
   "metadata": {},
   "outputs": [],
   "source": [
    "!ls $PREPARED_PATH"
   ]
  },
  {
   "cell_type": "markdown",
   "id": "7337511e-b2cd-4750-b979-904d4471a385",
   "metadata": {
    "jp-MarkdownHeadingCollapsed": true,
    "tags": []
   },
   "source": [
    "### Skipping already prepeared data"
   ]
  },
  {
   "cell_type": "markdown",
   "id": "b587e762-13cf-4094-adc3-560640500942",
   "metadata": {},
   "source": [
    "The switches `sub_skip_tsv`, `sub_skip_dir`, `ses_skip_dir` allow users\n",
    "to skip already processed subjects and sessions."
   ]
  },
  {
   "cell_type": "markdown",
   "id": "cb793ea8",
   "metadata": {},
   "source": [
    "`sub_skip_tsv=True` will skip all subjects that are present in `participants.tsv` file.\n",
    "\n",
    "In this example, it will skip subjects 3, and 4, and will only run on the second subject:"
   ]
  },
  {
   "cell_type": "code",
   "execution_count": null,
   "id": "63828589-f58a-498a-bf6d-ccd178fc0e2c",
   "metadata": {
    "scrolled": true,
    "tags": []
   },
   "outputs": [],
   "source": [
    "bidsme.prepare(SOURCE_PATH, PREPARED_PATH,\n",
    "               part_template=os.path.join(RESOURCES_PATH, \"participants.json\"),\n",
    "               data_dirs={\"nii\": \"MRI\"},\n",
    "               sub_skip_tsv=True)\n",
    "bidsme.tools.info.reporterrors(logger)\n",
    "bidsme.tools.info.reseterrors(logger)"
   ]
  },
  {
   "cell_type": "markdown",
   "id": "dacc1e4c-c544-4bbb-b519-9e5d4861c169",
   "metadata": {},
   "source": [
    "> **CLI:**\n",
    "`bidsme prepare <source> <destination> -r \"nii=MRI\" --skip-in-tsv`"
   ]
  },
  {
   "cell_type": "markdown",
   "id": "e3671ac1",
   "metadata": {},
   "source": [
    "Now the prepared dataset should contain also the missing second subject:"
   ]
  },
  {
   "cell_type": "code",
   "execution_count": null,
   "id": "2c936e2d",
   "metadata": {},
   "outputs": [],
   "source": [
    "!ls $PREPARED_PATH"
   ]
  },
  {
   "cell_type": "markdown",
   "id": "acb1463a",
   "metadata": {},
   "source": [
    "Parameters `--skip-existing` and `--skip-existing-sessions` will skip subjects and\n",
    "sessions, respectively, that already have their folders in prepared dataset.\n",
    "\n",
    "Please, remove `sub-002` and `sub-003/ses-s01584` folders from prepared dataset:"
   ]
  },
  {
   "cell_type": "code",
   "execution_count": null,
   "id": "79cc9fd0-b775-431f-8d15-841b15f28161",
   "metadata": {},
   "outputs": [],
   "source": [
    "shutil.rmtree(os.path.join(PREPARED_PATH, 'sub-002'))\n",
    "shutil.rmtree(os.path.join(PREPARED_PATH, 'sub-003', 'ses-s01584'))"
   ]
  },
  {
   "cell_type": "markdown",
   "id": "f5785518-50f5-4567-b779-df7d9460d4bb",
   "metadata": {},
   "source": [
    "Then run the `prepare` step asking to skip existing subjects:"
   ]
  },
  {
   "cell_type": "code",
   "execution_count": null,
   "id": "d72c587e-e71e-4856-a6b0-2abb93b5e82a",
   "metadata": {
    "scrolled": true,
    "tags": []
   },
   "outputs": [],
   "source": [
    "bidsme.prepare(SOURCE_PATH, PREPARED_PATH,\n",
    "               part_template=os.path.join(RESOURCES_PATH, \"participants.json\"),\n",
    "               data_dirs={\"nii\": \"MRI\"},\n",
    "               sub_skip_dir=True)\n",
    "bidsme.tools.info.reporterrors(logger)\n",
    "bidsme.tools.info.reseterrors(logger)"
   ]
  },
  {
   "cell_type": "markdown",
   "id": "786ae0d0-0a01-4dc9-bd6d-1f97fdb715c6",
   "metadata": {},
   "source": [
    "> **CLI:** `bidsme prepare <source> <destination> -r \"nii=MRI\" --skip-existing`"
   ]
  },
  {
   "cell_type": "markdown",
   "id": "469a57b6",
   "metadata": {},
   "source": [
    "The `sub-002` folder should now be recreated in prepared dataset,\n",
    "but session `ses-s01584` are still missing, because subject `sub-003`\n",
    "already has been processed:"
   ]
  },
  {
   "cell_type": "code",
   "execution_count": null,
   "id": "701d9fed",
   "metadata": {},
   "outputs": [],
   "source": [
    "!ls $PREPARED_PATH\n",
    "!ls $PREPARED_PATH/sub-003"
   ]
  },
  {
   "cell_type": "markdown",
   "id": "cfeb5074",
   "metadata": {},
   "source": [
    "Running next command should restore missing session:"
   ]
  },
  {
   "cell_type": "code",
   "execution_count": null,
   "id": "362f4d5f-9d86-406c-a5e8-b1491783f60b",
   "metadata": {
    "scrolled": true,
    "tags": []
   },
   "outputs": [],
   "source": [
    "bidsme.prepare(SOURCE_PATH, PREPARED_PATH,\n",
    "               part_template=os.path.join(RESOURCES_PATH, \"participants.json\"),\n",
    "               data_dirs={\"nii\": \"MRI\"},\n",
    "               ses_skip_dir=True)\n",
    "bidsme.tools.info.reporterrors(logger)\n",
    "bidsme.tools.info.reseterrors(logger)"
   ]
  },
  {
   "cell_type": "markdown",
   "id": "9dbb871c-9133-4e5b-95b4-25b22f9f420e",
   "metadata": {},
   "source": [
    "> **CLI:** `bidsme prepare <source> <destination> -r \"nii=MRI\" --skip-existing-session`"
   ]
  },
  {
   "cell_type": "markdown",
   "id": "2f43d776",
   "metadata": {},
   "source": [
    "All sessions should be skipped:\n",
    "```\n",
    "prepare(319) - INFO Skipping session 'ses-s01512'\n",
    "```\n",
    "except the `ses-s01584`:\n",
    "```\n",
    "prepare(59) - INFO Processing: sub 'sub-003', ses 'ses-s01584' (41 files)\n",
    "```\n",
    "\n",
    "And the session `ses-s01584` is in it's place:"
   ]
  },
  {
   "cell_type": "code",
   "execution_count": null,
   "id": "27150657",
   "metadata": {},
   "outputs": [],
   "source": [
    "!ls $PREPARED_PATH/sub-003"
   ]
  },
  {
   "cell_type": "markdown",
   "id": "75fdc8bd-c007-431d-9377-c1555e5530e7",
   "metadata": {
    "jp-MarkdownHeadingCollapsed": true,
    "tags": []
   },
   "source": [
    "## 4 - Prepared dataset"
   ]
  },
  {
   "cell_type": "markdown",
   "id": "62445ec7-58bb-4e5d-baec-34d5bd525bb9",
   "metadata": {},
   "source": [
    "If all steps above was succesful, we should have a newly created \"prepared\" dataset,\n",
    "which contains all four processed subjects, and demographics table `participants.tsv`:"
   ]
  },
  {
   "cell_type": "code",
   "execution_count": null,
   "id": "71219f2d-1bc0-47f8-99d4-6be542c3f499",
   "metadata": {},
   "outputs": [],
   "source": [
    "!ls $PREPARED_PATH"
   ]
  },
  {
   "cell_type": "markdown",
   "id": "9a7646a1-ca50-4f46-a48c-e6bc7226f483",
   "metadata": {},
   "source": [
    "For now, each subject has the same id, as the name of folder in the source dataset,\n",
    "and the `participants.tsv` table remains unfilled.\n",
    "The subject names can be changed and the table can be filled by using plug-ins,\n",
    "as described in [advanced prepare tutorial](04-advanced-preparation.ipynb)."
   ]
  },
  {
   "cell_type": "markdown",
   "id": "fb1198c4-7658-4cfc-b6b1-4a676314cee5",
   "metadata": {},
   "source": [
    "Going down one level, each subject folder should contain three sessions,\n",
    "with criptic names, which again can be renamed using plugins:"
   ]
  },
  {
   "cell_type": "code",
   "execution_count": null,
   "id": "3bb44ce3-346c-4be8-a52e-f7106cd1d99c",
   "metadata": {},
   "outputs": [],
   "source": [
    "!ls $PREPARED_PATH/sub-003"
   ]
  },
  {
   "cell_type": "markdown",
   "id": "4ee22b53-9ee6-4334-acae-25114b305a59",
   "metadata": {},
   "source": [
    "Finally, in eachsession folder, you can see a modality folder `MRI`, containing\n",
    "a list of MRI sequences acquired during one session: "
   ]
  },
  {
   "cell_type": "code",
   "execution_count": null,
   "id": "b8970091-a0ed-4499-bb49-27dde151b143",
   "metadata": {},
   "outputs": [],
   "source": [
    "!ls $PREPARED_PATH/sub-003/ses-s01599/MRI"
   ]
  },
  {
   "cell_type": "markdown",
   "id": "00f92401-6ea3-4931-aab6-328e6356e266",
   "metadata": {},
   "source": [
    "Based on this structure, in the [next tutorial](02-basic-mapping.ipynb),\n",
    "we will configure the `bidsme`, so it could bidsify the dataset."
   ]
  }
 ],
 "metadata": {
  "kernelspec": {
   "display_name": "bidsme_env (Python)",
   "language": "python",
   "name": "bidsme_env"
  },
  "language_info": {
   "codemirror_mode": {
    "name": "ipython",
    "version": 3
   },
   "file_extension": ".py",
   "mimetype": "text/x-python",
   "name": "python",
   "nbconvert_exporter": "python",
   "pygments_lexer": "ipython3",
   "version": "3.8.10"
  }
 },
 "nbformat": 4,
 "nbformat_minor": 5
}
