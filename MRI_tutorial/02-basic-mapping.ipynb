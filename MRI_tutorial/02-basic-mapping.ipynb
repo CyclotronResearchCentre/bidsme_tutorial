{
 "cells": [
  {
   "cell_type": "markdown",
   "id": "f7f6b246",
   "metadata": {
    "tags": []
   },
   "source": [
    "## 0 - Introduction"
   ]
  },
  {
   "cell_type": "markdown",
   "id": "e228b428",
   "metadata": {},
   "source": [
    "This tutorial will gide through the map creation step,\n",
    "where we will create a map (a configuration file),\n",
    "that will tell `bidsme` how to bidsify any particular\n",
    "data file."
   ]
  },
  {
   "cell_type": "markdown",
   "id": "c88b847f",
   "metadata": {},
   "source": [
    "The map creation is the most complicated part of bidsification pipeline.\n",
    "Hopefully it must be done only once, and then created map file can be used\n",
    "with some adaptations to several similar datasets. "
   ]
  },
  {
   "cell_type": "markdown",
   "id": "9366dc4e",
   "metadata": {},
   "source": [
    "But first, we need load the paths to example dataset\n",
    "defined in [dataset installation](./00-tutoral-paths.ipynb):"
   ]
  },
  {
   "cell_type": "code",
   "execution_count": null,
   "id": "d8a4bb7e",
   "metadata": {},
   "outputs": [],
   "source": [
    "%run \"./Configuration/00-tutorial-paths.py\""
   ]
  },
  {
   "cell_type": "markdown",
   "id": "385a0b35-ebfd-4925-8877-508b1c858085",
   "metadata": {},
   "source": [
    "If you see any error, please verify the path definitions in `../01-installation/00-paths.ipynb`."
   ]
  },
  {
   "cell_type": "markdown",
   "id": "e3415de9-5b6b-49c9-be1e-6ce5b0275ee0",
   "metadata": {},
   "source": [
    "We will also need a helper functions, defined in [Tools folder](../Tools/tools.py),\n",
    "we just need to execute the file:"
   ]
  },
  {
   "cell_type": "code",
   "execution_count": null,
   "id": "b756405b-722b-4cff-a55f-4d47994d94a5",
   "metadata": {},
   "outputs": [],
   "source": [
    "%run \"../Tools/tools.py\""
   ]
  },
  {
   "cell_type": "markdown",
   "id": "f259a3ad-efba-4fd5-b63a-d6fec6bd8c6b",
   "metadata": {},
   "source": [
    "Finally we will initialize `bidsme` and get the `logger` object\n",
    "which will control the logging of all bidsme functions:"
   ]
  },
  {
   "cell_type": "code",
   "execution_count": null,
   "id": "14bc7e74-293c-434f-96ab-7c704c32a948",
   "metadata": {},
   "outputs": [],
   "source": [
    "import bidsme\n",
    "logger = bidsme.init()"
   ]
  },
  {
   "cell_type": "markdown",
   "id": "8ead5b8e-f256-446c-9a15-d596af3286af",
   "metadata": {},
   "source": [
    "If the bidsme is installed in current environment, you should see\n",
    "the version of `bidsme`."
   ]
  },
  {
   "cell_type": "markdown",
   "id": "cf1d8d82",
   "metadata": {
    "jp-MarkdownHeadingCollapsed": true,
    "tags": []
   },
   "source": [
    "## 1 - Project of bidsificated names"
   ]
  },
  {
   "cell_type": "markdown",
   "id": "c593086f",
   "metadata": {},
   "source": [
    "Due to complexity of map creation, it is importtant to know well\n",
    "the dataset you try to bidsify, and have an draft for bidsified\n",
    "names for the data.\n",
    "\n",
    "Technically it is not required, but will allow to avoid a lot\n",
    "of confusion later."
   ]
  },
  {
   "cell_type": "markdown",
   "id": "622e6b13",
   "metadata": {},
   "source": [
    "During the [preparation tutorial](01-basic-preparation.ipynb) `bidsme`\n",
    "already organized the source data, and split it into sections ans series."
   ]
  },
  {
   "cell_type": "markdown",
   "id": "4a127779",
   "metadata": {
    "jp-MarkdownHeadingCollapsed": true,
    "tags": []
   },
   "source": [
    "### First session"
   ]
  },
  {
   "cell_type": "markdown",
   "id": "7588b7fc",
   "metadata": {},
   "source": [
    "Taken the first subject `sub-001`, the first section contains the following\n",
    "series:"
   ]
  },
  {
   "cell_type": "code",
   "execution_count": null,
   "id": "044afea7",
   "metadata": {},
   "outputs": [],
   "source": [
    "!ls $PREPARED_PATH/sub-001/ses-s01512/MRI"
   ]
  },
  {
   "cell_type": "markdown",
   "id": "16700cbb",
   "metadata": {},
   "source": [
    "The `001-localizer` images are, as the name indicates, localizer technical images\n",
    "and will be ignored."
   ]
  },
  {
   "cell_type": "markdown",
   "id": "38347cea",
   "metadata": {},
   "source": [
    "The `002-cmrr_mbep2d_bold_mb2_task_nfat` and `008-cmrr_mbep2d_bold_mb2_rest` are\n",
    "the functional MRI for the task (named nBack) and rest state, respectively.\n",
    "Following\n",
    "[BIDS for MRI](https://bids-specification.readthedocs.io/en/stable/04-modality-specific-files/01-magnetic-resonance-imaging-data.html#task-including-resting-state-imaging-data),\n",
    "we will give the name similar to `func/sub-001_ses-s01512_task-nBack_dir-AP_bold.nii`.\n",
    "For the rest state, we will just replace `task-nBack` by `task-rest`."
   ]
  },
  {
   "cell_type": "markdown",
   "id": "22460b63",
   "metadata": {},
   "source": [
    "The `002-cmrr_mbep2d_bold_mb2_invertpe` and `006-cmrr_mbep2d_bold_mb2_invertpe` are\n",
    "the fieldmaps taken for each of functional acquisition.\n",
    "They corresponds to [peopolar fmap images](https://bids-specification.readthedocs.io/en/stable/04-modality-specific-files/01-magnetic-resonance-imaging-data.html#case-4-multiple-phase-encoded-directions-pepolar), so we will give them names similar to\n",
    "`fmap/sub-001_ses-s01512_acq-nBack_dir-PA_epi.nii`.\n",
    "Again replacing `acq-nBack` to `acq-rest` for the fieldmap for the resting state."
   ]
  },
  {
   "cell_type": "markdown",
   "id": "b1886271",
   "metadata": {},
   "source": [
    "The `010-gre_field_mapping` and `011-gre_field_mapping` are the two magnitudes and\n",
    "the phase difference images. Following the [BIDS](https://bids-specification.readthedocs.io/en/stable/04-modality-specific-files/01-magnetic-resonance-imaging-data.html#case-1-phase-difference-map-and-at-least-one-magnitude-image),\n",
    "we will give them names `fmap/sub-001_ses-s01512_magnitude1.nii` and `fmap/sub-001_ses-s01512_phasediff`, respectively."
   ]
  },
  {
   "cell_type": "markdown",
   "id": "e0fbf6e7",
   "metadata": {},
   "source": [
    "The `012-t1_mpr_sag_p2_iso` and `013-t2_spc_da-fl_sag_p2_iso`\n",
    "are two anatomical T1-waited and Flair images.\n",
    "Following the [BIDS](https://bids-specification.readthedocs.io/en/stable/04-modality-specific-files/01-magnetic-resonance-imaging-data.html#anatomy-imaging-data),\n",
    "they will be named `anat/sub-001_ses-s01512_T1w.nii` and `anat/sub-001_ses-s01512_FLAIR.nii`"
   ]
  },
  {
   "cell_type": "markdown",
   "id": "c0f53ee1",
   "metadata": {
    "jp-MarkdownHeadingCollapsed": true,
    "tags": []
   },
   "source": [
    "### Second session"
   ]
  },
  {
   "cell_type": "markdown",
   "id": "acfb8faf",
   "metadata": {},
   "source": [
    "Second session `ses-s01513` have a similar list of series:"
   ]
  },
  {
   "cell_type": "code",
   "execution_count": null,
   "id": "41b81b01",
   "metadata": {},
   "outputs": [],
   "source": [
    "!ls $PREPARED_PATH/sub-001/ses-s01513/MRI"
   ]
  },
  {
   "cell_type": "markdown",
   "id": "fa75c9ae",
   "metadata": {},
   "source": [
    "Ther localizer, functional MRI and fieldmaps are same as for\n",
    "the first session, and will recieve the same names.\n",
    "\n",
    "The anatomical images are replaced by a diffusion image and\n",
    "two associated field maps."
   ]
  },
  {
   "cell_type": "markdown",
   "id": "89800f09",
   "metadata": {},
   "source": [
    "The diffusion image `013-cmrr_mbep2d_diff_NODDI` will become\n",
    "`dwi/sub-001_ses-s01513_dir-AP_dwi`, as [BIDS](https://bids-specification.readthedocs.io/en/stable/04-modality-specific-files/01-magnetic-resonance-imaging-data.html#diffusion-imaging-data) suggests."
   ]
  },
  {
   "cell_type": "markdown",
   "id": "32eb4aaa",
   "metadata": {},
   "source": [
    "The fieldmap `014-cmrr_mbep2d_diff_NODDI_noise` is a normal diffusion\n",
    "image, but taken without an RF pulse, we will give it an `acq-RFoff`:\n",
    "`fmap/sub-001_ses-s01513_acq-RFoff_dir-AP_epi.nii`."
   ]
  },
  {
   "cell_type": "markdown",
   "id": "6da868a3",
   "metadata": {},
   "source": [
    "The fieldmap `012-cmrr_mbep2d_diff_NODDI_invertpe` is similar to\n",
    "the ones taken for the functional MRI, so we will give it similar names,\n",
    "except for `acq-` entity, we will give `acq-RFoff`:\n",
    "`fmap/sub-001_ses-s01513_acq-RFon_dir-PA_epi`"
   ]
  },
  {
   "cell_type": "markdown",
   "id": "02051adc",
   "metadata": {
    "jp-MarkdownHeadingCollapsed": true,
    "tags": []
   },
   "source": [
    "### Third session"
   ]
  },
  {
   "cell_type": "markdown",
   "id": "2a3925a6",
   "metadata": {},
   "source": [
    "The third session `ses-s01530` is the quantitative MRI (qMRI), inparticular\n",
    "it follows multy-parametric mapping (MPM) protocols:"
   ]
  },
  {
   "cell_type": "code",
   "execution_count": null,
   "id": "90424808",
   "metadata": {},
   "outputs": [],
   "source": [
    "!ls $PREPARED_PATH/sub-001/ses-s01530/MRI"
   ]
  },
  {
   "cell_type": "markdown",
   "id": "ff3eb83b",
   "metadata": {},
   "source": [
    "Outside the localizer and `gre_field_mapping`, already discussed,\n",
    "it contains 3 anatomical images: PD weighted, T1 weighted, and MTweighted, \n",
    "and two B1 fieldmaps taken for each of anatomical ones.\n",
    "\n",
    "We will follow\n",
    "[the bidsifications of qMRI](https://bids-specification.readthedocs.io/en/stable/99-appendices/11-qmri.html):"
   ]
  },
  {
   "cell_type": "markdown",
   "id": "6bda81c5",
   "metadata": {},
   "source": [
    "The `004-al_mtflash3d_PDw` and `005-al_mtflash3d_PDw` are\n",
    "the anatomical images\n",
    "(suffix -- `MPM`)\n",
    "taken using several echo times (`echo-1` ... `echo-6`),\n",
    "and splitted into magnitude and phase components (`part-mag` and `part-phase`).\n",
    "Additionaly, as for the PD-weighted images, the MT pulse wasn't used, we will\n",
    "add the `mt-off` entity.\n",
    "We will also add `flip-1` to the name, to mark that PDw images uses different\n",
    "flip angle from T\n",
    "So the final name will become:\n",
    "`anat/sub-001_ses-s01530_acq-PDw_echo-1_mt-off_part-mag_MPM.nii`.\n",
    "`anat/sub-001_ses-s01530_acq-PDw_echo-1_flip-1_mt-off_part-mag_MPM.nii`"
   ]
  },
  {
   "cell_type": "markdown",
   "id": "d392a25e",
   "metadata": {},
   "source": [
    "The `002-al_mtflash3d_sensArray` and `003-al_mtflash3d_sensBody`\n",
    "are [B1 fieldmaps](https://bids-specification.readthedocs.io/en/stable/99-appendices/11-qmri.html#rb1cor-specific-notes)\n",
    "(suffix -- `RB1COR`),\n",
    "taken for the PD-weighted images, using head and body coils\n",
    "(`acq-headPDw` and `acq-bodyPDw`).\n",
    "So their names will be simply: `fmap/sub-001_ses-s01530_acq-headPDw_RB1COR.nii`."
   ]
  },
  {
   "cell_type": "markdown",
   "id": "632170da",
   "metadata": {},
   "source": [
    "The similar names can be applied to T1w and MTw images and corresponding fieldmaps,\n",
    "using corresponding `acq-` entities `acq-T1w` and `acq-MTw`.\n",
    "For MTw images we alse need to use the `mt-on` entity."
   ]
  },
  {
   "cell_type": "markdown",
   "id": "1adab46a",
   "metadata": {},
   "source": [
    "Finally, `014-al_B1mapping` is the\n",
    "[global B1 map](https://bids-specification.readthedocs.io/en/stable/99-appendices/11-qmri.html#tb1epi-specific-notes)\n",
    "(suffix -- `TB1EPI`)\n",
    "sets of images, taken with two echo times (`echo-1`, `echo-2`)\n",
    "and several flip angles (`flip-01`, ... `flip-08`).\n",
    "So the final name will become: `fmap/sub-001_ses-s01530_echo-1_flip-01_TB1EPI`"
   ]
  },
  {
   "cell_type": "markdown",
   "id": "3ebceb24",
   "metadata": {},
   "source": [
    "For convinience, we put the full list of series and the projected bidsified\n",
    "names into [../Files/projected_names.md](./Files/projected_names.md)."
   ]
  },
  {
   "cell_type": "markdown",
   "id": "26c3d0fe",
   "metadata": {
    "jp-MarkdownHeadingCollapsed": true,
    "tags": []
   },
   "source": [
    "## 2 - Mapping"
   ]
  },
  {
   "cell_type": "markdown",
   "id": "f0c9b8d6",
   "metadata": {
    "tags": []
   },
   "source": [
    "Before bidsifying the prepared dataset, `bidsme` needs to know precisely how to bidsify each \n",
    "data file. \n",
    "Instead of hard-coding all possible file names and protocols, `bidsme` will look\n",
    "into the metadata associated with each individual image file, and will use the special file\n",
    "`bidsmap.yaml`, to try and determine the BIDS-conforming name from it.\n",
    "\n",
    "This approach allows the retrieval of any relevant information necessary for bidsification, regardless of naming conventions, protocols and parameters;  it is user's responsability to create the appropriate mapping file `bidsmap.yaml`."
   ]
  },
  {
   "cell_type": "markdown",
   "id": "75f8c5a9",
   "metadata": {
    "jp-MarkdownHeadingCollapsed": true,
    "tags": []
   },
   "source": [
    "### 1 - `bidsmap.yaml` file structure"
   ]
  },
  {
   "cell_type": "markdown",
   "id": "34acbbf6",
   "metadata": {
    "tags": []
   },
   "source": [
    "This mapping file is written in [yaml](https://yaml.org/spec/1.2.2/) language, which uses tabs and spaces to denote substructures, similar to python.\n",
    "\n",
    "A typical section of the `bidsmap` file is similar to the following\n",
    "(see example in `$RESOURCES_PATH/map/bidsmap_noPlugin.yaml`):\n",
    "```yaml\n",
    "MRI:  # Type of data, determines the type of recording, e.g. MRI, PET, EEG etc. \n",
    "  hmriNIFTI: # Format of data, provides information to bidsme on how to read the metadata \n",
    "    func: # Modality, corresponds to sub-folders in BIDS subject/session directory; this is only defined for some type of data, such as MRI\n",
    "      - provenance: /home/beliy/Works/bidscoin/test/renamed/sub-003/ses-HCL/MRI/002-cmrr_mbep2d_bold_mb2_invertpe/f1904-0002-00001-000001-01.nii # Path to (prepared) file used to check this entry\n",
    "        example: func/sub-003_ses-HCL_task-nBack_dir-PA_run-1_bold # Example of bidsified name, generated for this block\n",
    "        checked: true # manual user's approval that block is correct\n",
    "        suffix: bold # suffix to use in bidsified name\n",
    "        attributes: # list of attributes/metadata used to identify data\n",
    "          ProtocolName: cmrr_mbep2d_bold_mb2_invertpe\n",
    "          ImageType: ORIGINAL\\\\PRIMARY\\\\M\\\\MB\\\\ND\\\\MOSAIC\n",
    "          SeriesNumber: 2\n",
    "        bids: !!omap # list of bids entities used to create bidsified name\n",
    "          - dir: PA\n",
    "          - task: nBack\n",
    "          - acq: ~\n",
    "          - ce: ~\n",
    "          - rec: ~\n",
    "          - run: <AcquisitionNumber>\n",
    "          - echo: ~\n",
    "        json: !!omap # list of metadata to put into bidsified json file\n",
    "          - TaskName: <<bids:task>>\n",
    "          - RepetitionTime: <scale-3:RepetitionTime>\n",
    "          - NumberOfVolumesDiscardedByScanner: 0\n",
    "          - NumberOfVolumesDiscardedByUser: 0\n",
    "          - DelayTime: 0\n",
    "```"
   ]
  },
  {
   "cell_type": "markdown",
   "id": "1b7d3e45",
   "metadata": {
    "jp-MarkdownHeadingCollapsed": true,
    "tags": []
   },
   "source": [
    "### 2 - Creating new `bidsmap.yaml` file"
   ]
  },
  {
   "cell_type": "markdown",
   "id": "f881a8e8",
   "metadata": {
    "tags": []
   },
   "source": [
    "The actual mapping file `bidsmap.yaml` is created and updated by running `map` command."
   ]
  },
  {
   "cell_type": "code",
   "execution_count": null,
   "id": "fa1f90d7",
   "metadata": {},
   "outputs": [],
   "source": [
    "help(bidsme.mapper)"
   ]
  },
  {
   "cell_type": "markdown",
   "id": "24b24be5",
   "metadata": {},
   "source": [
    "The `map` command will go trough the prepared dataset, and for each\n",
    "image, will try to find a corresponding section in the `bidsmap.yaml`."
   ]
  },
  {
   "cell_type": "code",
   "execution_count": null,
   "id": "674f50c6",
   "metadata": {
    "scrolled": true,
    "tags": []
   },
   "outputs": [],
   "source": [
    "bidsme.mapper(PREPARED_PATH, BIDSIFIED_PATH)\n",
    "bidsme.tools.info.reporterrors(logger)\n",
    "bidsme.tools.info.reseterrors(logger)"
   ]
  },
  {
   "cell_type": "markdown",
   "id": "476a35d3",
   "metadata": {},
   "source": [
    ">By default `bidsmap.yaml` is created in `code/bidsme` folder in bidsified datast.\n",
    "But a custom path to map file can be provided using `bidsmapfile` option."
   ]
  },
  {
   "cell_type": "markdown",
   "id": "4dd49c1f-3164-4f8e-978b-d2e4d55fcda9",
   "metadata": {},
   "source": [
    "> **CLI:** `bidsme map <source> <destination> [-b <bidsmap file>]`"
   ]
  },
  {
   "cell_type": "markdown",
   "id": "502c4ee2-e71e-4fc7-b91b-6ca0a440feb6",
   "metadata": {},
   "source": [
    "The exact location of the created `bidsmap.yaml` is reported in the **log** output:\n",
    "```\n",
    "bidsmap._bidsmap(270) - INFO Writing bidsmap to: /home/beliy/Work/bidsme/bidsme_example/example1/bids/code/bidsme/bidsmap.yaml\n",
    "```\n",
    "\n",
    "We need to open it in an editor of choice and fix the appearing warnings and errors,\n",
    "as described in the following chapters."
   ]
  },
  {
   "cell_type": "markdown",
   "id": "0f0abe6e-6dc5-445f-8bb5-6103d70bab3a",
   "metadata": {},
   "source": [
    "> **Note:** The yaml language is very sensitive to the syntax, in particular to the\n",
    "tabs and spaces, that are used to create the hierachical structure.\n",
    "Using an editor that highlights that structure and/or warns about syntax errors\n",
    "is highly recommended!"
   ]
  },
  {
   "cell_type": "markdown",
   "id": "57f99096",
   "metadata": {
    "jp-MarkdownHeadingCollapsed": true,
    "tags": []
   },
   "source": [
    "### 3 - Treating auto-generated sections (template sections)"
   ]
  },
  {
   "cell_type": "markdown",
   "id": "015191de",
   "metadata": {},
   "source": [
    "Bidsme will run untill it finds a image file that it unable to bidsify and stop,\n",
    "showing found warnings and errors.\n",
    "User should correct the warnings and errors and run map again untill all image files can be\n",
    "bidsified.\n",
    "\n",
    "The list of common warnings and erros, together with examples and possible corrections are in separate files [Errors.md](../Info/Errors.md) and [Warnings.md](../Info/Warnings.md)."
   ]
  },
  {
   "cell_type": "markdown",
   "id": "2d0ff089",
   "metadata": {},
   "source": [
    "The first **warning** you will probably see is:\n",
    "\n",
    "```\n",
    "mapper(73) - WARNING MRI/001-localizer/0: No run found in bidsmap. Looking into template\n",
    "```\n",
    "\n",
    "As indicated in [Warnings.md](../Warnings.md), bidsme encounted a new file that\n",
    "it couldn't identify and created corresponding section in `bidsmap.yaml`.\n",
    "\n",
    "This new section can be easely identifieble by field `template: true`:\n",
    "```yaml\n",
    "    __ignore__:\n",
    "      - provenance: /home/beliy/Work/bidsme/bidsme_example/example1/renamed/sub-001/ses-s01512/MRI/001-localizer/s1512-0001-00001-000001-01.nii\n",
    "        example: __ignore__/sub-001_ses-s01512\n",
    "        template: true  # indicates that it was generated from template\n",
    "        checked: false\n",
    "        suffix: ''\n",
    "        attributes:\n",
    "          ProtocolName: 'localizer'\n",
    "        bids: !!omap []\n",
    "        json: !!omap []\n",
    "```\n",
    "\n",
    "There two things to do:\n",
    "\n",
    " 1. Remove line containing `template: true`. This will allow to keep track of newly generated sections.\n",
    " 2. Vrify that the file (in this case `MRI/001-localizer/s1512-0001-00001-000001-01.nii`, as cited in `provenance` field) is correctly identified. Here, the file is used for localisation and don't have much value in final dataset. Such files can be placed into `__ignore__` to tell to bidme to ignore and exclude them from bidsification."
   ]
  },
  {
   "cell_type": "markdown",
   "id": "fbba8bec",
   "metadata": {},
   "source": [
    " After these two steps are done, save `bidsmap.yaml`, and run `map` again:"
   ]
  },
  {
   "cell_type": "code",
   "execution_count": null,
   "id": "dff9de4b-7971-472d-befd-b4184feae208",
   "metadata": {
    "scrolled": true,
    "tags": []
   },
   "outputs": [],
   "source": [
    "bidsme.mapper(PREPARED_PATH, BIDSIFIED_PATH)\n",
    "bidsme.tools.info.reporterrors(logger)\n",
    "bidsme.tools.info.reseterrors(logger)"
   ]
  },
  {
   "cell_type": "markdown",
   "id": "a66699a8",
   "metadata": {},
   "source": [
    "On the next file `MRI/002-cmrr_mbep2d_bold_mb2_invertpe/f1512-0002-00001-000001-01.nii`\n",
    "should produce more warnings and few errors.\n",
    "But first two actions will remain the same as for previous file:\n",
    "\n",
    "    1. Remove `template:true`\n",
    "    2. Verify that `002-cmrr_mbep2d_bold_mb2_invertpe` is correctly attributed to fieldmap (`fmap`)."
   ]
  },
  {
   "cell_type": "markdown",
   "id": "20ac4e19",
   "metadata": {
    "jp-MarkdownHeadingCollapsed": true,
    "tags": []
   },
   "source": [
    "### 4 - Setting up bidsified name"
   ]
  },
  {
   "cell_type": "markdown",
   "id": "68fc950d",
   "metadata": {},
   "source": [
    "Next step is to verify the bidsified name given in `example` field:\n",
    "```yaml\n",
    "    example: fmap/sub-001_ses-s01512_acq-cmrrmbep2dboldmb2invertpe_dir-PA_epi\n",
    "```"
   ]
  },
  {
   "cell_type": "markdown",
   "id": "dd51fc9e",
   "metadata": {},
   "source": [
    "The name is constructed in the `bids` subsection, where an ordered dictionary (`!!omap`)\n",
    "is used to define each of entities.\n",
    "The key corresponds to  the name of an entity, and the value to the value of entity.\n",
    "If value is null value, represented by `~` in yaml, than this entity will be ignored.\n",
    "And because it's an ordered dictionary, the entities will appear in the same order as\n",
    "they appear in `bids` dictionary. \n",
    "So,\n",
    "```yaml\n",
    "    bids: !!omap\n",
    "      - acq: <SeriesDescription>\n",
    "      - ce: ~\n",
    "      - dir: PA\n",
    "      - run: ~\n",
    "```\n",
    "will produce bidsified name `acq-cmrrmbep2dboldmb2invertpe_dir-PA`,\n",
    "to which the modality, subject, session and suffix will be added automaticaly to produce the\n",
    "line that you can find in example field:\n",
    "`fmap/sub-001_ses-s01512_acq-cmrrmbep2dboldmb2invertpe_dir-PA_epi`.\n",
    "\n",
    "If we look for `002-cmrr_mbep2d_bold_mb2_invertpe` in the projected names,\n",
    "we expect to have the name `fmap/sub-001_ses-s01512_acq-nBack_dir-PA_epi`.\n",
    "We need just to set in the `bids` section:\n",
    "```yaml\n",
    "        bids: !!omap\n",
    "          - acq: nBack\n",
    "          - ce: ~\n",
    "          - dir: PA\n",
    "          - run: ~\n",
    "```\n",
    "\n",
    "Rerunning the `map` command, should fix the `example` field:"
   ]
  },
  {
   "cell_type": "code",
   "execution_count": null,
   "id": "06af9334-c0aa-4648-826a-bf10ec8baa29",
   "metadata": {
    "scrolled": true,
    "tags": []
   },
   "outputs": [],
   "source": [
    "bidsme.mapper(PREPARED_PATH, BIDSIFIED_PATH)\n",
    "bidsme.tools.info.reporterrors(logger)\n",
    "bidsme.tools.info.reseterrors(logger)"
   ]
  },
  {
   "cell_type": "markdown",
   "id": "66c3de37",
   "metadata": {},
   "source": [
    "#### Duplicated bidsified name error"
   ]
  },
  {
   "cell_type": "markdown",
   "id": "b704bd8b",
   "metadata": {},
   "source": [
    "In the output of command, you should still see, the **error**:\n",
    "```\n",
    "mapper(105) - ERROR MRI/002-cmrr_mbep2d_bold_mb2_invertpe/1: Bidsified name same as first file of recording: fmap/sub-001_ses-s01512_acq-nBack_dir-PA_epi\n",
    "```\n",
    "This error happens becose second image in acquisition will end up with the same bidsified \n",
    "name as first image, so we need to modify `bids` sub-section again to attribute different names.\n",
    "\n",
    "The easiest choice is to use different run index for each image:\n",
    "```yaml\n",
    "        bids: !!omap\n",
    "          - acq: nBack\n",
    "          - ce: ~\n",
    "          - dir: PA\n",
    "          - run: <AcquisitionNumber>\n",
    "```\n",
    "Bidsme will automatically replace tag `<AcquisitionNumber>` with the value of the field\n",
    "`AcquisitionNumber` from file header\n",
    "(search for it in `MRI/002-cmrr_mbep2d_bold_mb2_invertpe/f1512-0002-00001-000001-01.json`).\n",
    "\n",
    "This will generate bidsified names:\n",
    " - fmap/sub-001_ses-s01512_acq-nBack_dir-PA_run-1_epi\n",
    " - fmap/sub-001_ses-s01512_acq-nBack_dir-PA_run-2_epi\n",
    " - fmap/sub-001_ses-s01512_acq-nBack_dir-PA_run-3_epi\n",
    " - fmap/sub-001_ses-s01512_acq-nBack_dir-PA_run-4_epi\n",
    " \n",
    "and so remove the risk of overwritting files."
   ]
  },
  {
   "cell_type": "markdown",
   "id": "643ef828",
   "metadata": {},
   "source": [
    "#### Formatting fields"
   ]
  },
  {
   "cell_type": "markdown",
   "id": "8ba33cec",
   "metadata": {},
   "source": [
    "These idsified names will work well if number of differen volumes is less than 10.\n",
    "At 10th volume, the alphabetically ordered list of files will look like that:\n",
    " - fmap/sub-001_ses-s01512_acq-cmrrmbep2dboldmb2invertpe_dir-PA_run-1_epi\n",
    " - fmap/sub-001_ses-s01512_acq-cmrrmbep2dboldmb2invertpe_dir-PA_run-10_epi\n",
    " - fmap/sub-001_ses-s01512_acq-cmrrmbep2dboldmb2invertpe_dir-PA_run-2_epi\n",
    " - fmap/sub-001_ses-s01512_acq-cmrrmbep2dboldmb2invertpe_dir-PA_run-3_epi\n",
    " - fmap/sub-001_ses-s01512_acq-cmrrmbep2dboldmb2invertpe_dir-PA_run-4_epi\n",
    " \n",
    "Which is not exactly convinient.\n",
    "\n",
    "Bidsme allow some limited transformation of data retrieved from header, these transformations\n",
    "are called `actions` and are defined in function `action_value` in file\n",
    "`INSTALLATION_PATH/bidsme/Modules/common.py`.\n",
    "In particular the `format` action will apply a particular \n",
    "[sring formating](https://docs.python.org/3/library/string.html#format-specification-mini-language).\n",
    "What we need is to transform `1` to `001`, so larger indexes will not break alphabetical order. Using python string formatting, it will be achieved by `\"{:03d}\"`:"
   ]
  },
  {
   "cell_type": "code",
   "execution_count": null,
   "id": "7a0b8fff",
   "metadata": {},
   "outputs": [],
   "source": [
    "\"{:03d}\".format(1)"
   ]
  },
  {
   "cell_type": "markdown",
   "id": "914fa068",
   "metadata": {},
   "source": [
    "In action formatting it is transformed to `<format03d:AcquisitionNumber>`:\n",
    " - `format` name of action\n",
    " - `03d` parameter of action\n",
    " - `AcquisitionNumber` field in metadata on which action will be applied\n",
    " \n",
    "> If you made an error in name of action or in parameter, you will recieve an error similar \n",
    "to: Invalid field prefix format03s: Unknown format code 's' for object of type 'int',\n",
    "where the first part of message will indicate what prefix/action was incorrect, and second part state the error itself\n",
    "\n",
    "After this modification, the files from `MRI/002-cmrr_mbep2d_bold_mb2_invertpe` the error\n",
    "should disappear:"
   ]
  },
  {
   "cell_type": "code",
   "execution_count": null,
   "id": "1441e7eb-428c-4476-85da-8f35fcfb8454",
   "metadata": {
    "scrolled": true,
    "tags": []
   },
   "outputs": [],
   "source": [
    "bidsme.mapper(PREPARED_PATH, BIDSIFIED_PATH)\n",
    "bidsme.tools.info.reporterrors(logger)\n",
    "bidsme.tools.info.reseterrors(logger)"
   ]
  },
  {
   "cell_type": "markdown",
   "id": "5322d2b9",
   "metadata": {
    "jp-MarkdownHeadingCollapsed": true,
    "tags": []
   },
   "source": [
    "### 5 - Replacing placeholders"
   ]
  },
  {
   "cell_type": "markdown",
   "id": "e62e7ab3",
   "metadata": {},
   "source": [
    "Next step is to fix `Placehoder found` **warning**:\n",
    "```\n",
    "Modules.base(901) - WARNING 002-cmrr_mbep2d_bold_mb2_invertpe/0: Placehoder found\n",
    "```\n",
    "\n",
    "As indicated in  [Warnings.md](../Warnings.md), this warning is raised by `<<placeholder>>`\n",
    "tag, which, in this case is in `json` subsection, in fields `NumberOfVolumesDiscardedByUser`\n",
    "and `IntendedFor`:\n",
    "```yaml\n",
    "        json: !!omap\n",
    "          - EffectiveEchoSpacing: <EffectiveEchoSpacing>\n",
    "          - TotalReadoutTime: <TotalReadoutTime>\n",
    "          - NumberOfVolumesDiscardedByUser: <<placeholder>>\n",
    "          - RepetitionTime: <RepetitionTime>\n",
    "          - IntendedFor:\n",
    "              - \"<<session>>/func/<<subject>>_<<session>>_task-<<placeholder>>_dir-AP_bold.nii\"\n",
    "```\n",
    "This tag is here to mark important fields that BIDS require to fill."
   ]
  },
  {
   "cell_type": "markdown",
   "id": "1a551e88",
   "metadata": {},
   "source": [
    "#### NumberOfVolumesDiscardedByUser"
   ]
  },
  {
   "cell_type": "markdown",
   "id": "f88c6a0c",
   "metadata": {},
   "source": [
    "The [NumberOfVolumesDiscardedByUser](https://bids-specification.readthedocs.io/en/stable/04-modality-specific-files/01-magnetic-resonance-imaging-data.html#timing-parameters_1)\n",
    "is just count of manually discarded volumes (a.k.a dummy volumes) from fMRI\n",
    "diffusion acquisition.\n",
    "\n",
    "There no discarded volume for this fieldmap, so we can replace this placeholder by 0."
   ]
  },
  {
   "cell_type": "markdown",
   "id": "dfcfe704",
   "metadata": {},
   "source": [
    "#### IntendedFor"
   ]
  },
  {
   "cell_type": "markdown",
   "id": "85a309a2",
   "metadata": {},
   "source": [
    "The [IntendedFor](https://bids-specification.readthedocs.io/en/stable/04-modality-specific-files/01-magnetic-resonance-imaging-data.html#using-intendedfor-metadata)\n",
    "field must contain the list of images, which will or can use a given fieldmap image.\n",
    "The paths to the images must be relative to the subject folder,\n",
    "if there are sessions in dataset, it should start with session,\n",
    "otherwise, it should start with datatype folder.\n",
    "\n",
    "The fieldmap, that we are currently setting was taken for functional fmri\n",
    "`004-cmrr_mbep2d_bold_mb2_task_nfat`, \n",
    "that we expect to be bidsified under name\n",
    "`func/sub-001_ses-s01512_task-nBack_dir-AP_bold`.\n",
    "BIDS requires that we put the path to that file(s) in the IntendedFor filed.\n",
    "\n",
    "Obviosly the path will be different for each subject and session, so instead of\n",
    "`sub-001` and `ses-s01512` we will use tags `<<subject>>` and `<<session>>`.\n",
    "Bidsme will automatically replace these tags with subject and session entities to current\n",
    "file subject and session entities.\n",
    "\n",
    "So the `IntendedFor` field should look similar to:\n",
    "```yaml\n",
    "- IntendedFor:\n",
    "              - \"<<session>>/func/<<subject>>_<<session>>_task-nBack_dir-AP_bold\"\n",
    "```\n",
    "\n",
    "Running `map` again should remove the `placeholder` warnings."
   ]
  },
  {
   "cell_type": "code",
   "execution_count": null,
   "id": "0f0ee98b-1410-4311-aff1-c2659e9c58de",
   "metadata": {
    "scrolled": true,
    "tags": []
   },
   "outputs": [],
   "source": [
    "bidsme.mapper(PREPARED_PATH, BIDSIFIED_PATH)\n",
    "bidsme.tools.info.reporterrors(logger)\n",
    "bidsme.tools.info.reseterrors(logger)"
   ]
  },
  {
   "cell_type": "markdown",
   "id": "b418814e",
   "metadata": {},
   "source": [
    "If the `002-cmrr_mbep2d_bold_mb2_invertpe` don't produce any errors/warnings\n",
    "`bidsme` will go to the next series: `002-cmrr_mbep2d_bold_mb2_invertpe`.\n",
    "\n",
    "Use the procedure described above to setup the bidsified name\n",
    "(check the projected names for reference), and to fix errors and warnings.\n",
    "\n",
    "Once this series is accepted by `bidsme`, pass to the next step."
   ]
  },
  {
   "cell_type": "markdown",
   "id": "efc2dad4",
   "metadata": {
    "jp-MarkdownHeadingCollapsed": true,
    "tags": []
   },
   "source": [
    "### 6 - Duplicated examples"
   ]
  },
  {
   "cell_type": "markdown",
   "id": "9eee6820",
   "metadata": {},
   "source": [
    "When `bidsme` reaches `006-cmrr_mbep2d_bold_mb2_invertpe`, you should see:\n",
    "\n",
    "**Error:**\n",
    "```\n",
    "mapper(382) - ERROR Matches example of already processed run fmap/sub-001_ses-s01512_acq-nBack_dir-PA_run-001_epi\n",
    "```"
   ]
  },
  {
   "cell_type": "markdown",
   "id": "d8cd84d7",
   "metadata": {},
   "source": [
    "It means that images from two different series will be bidssified\n",
    "with exactly same name, or, equivalently, the same section in\n",
    "`bidsmap.yaml` matches two different series.\n",
    "\n",
    "It is easy to find the section in question, by searching in `bidsmap.yaml`\n",
    "the line given in the warning message:\n",
    "`fmap/sub-001_ses-s01512_acq-nBack_dir-PA_run-001_epi`.\n",
    "\n",
    "The second series, that matches that section, is given just above the warning:\n",
    "`006-cmrr_mbep2d_bold_mb2_invertpe`.\n",
    "\n",
    "These are two fieldmaps, taken for task (nBack) and resting state fMRI.\n",
    "\n",
    "`bidsme` determines which section applies to which image, by matching\n",
    "image metadata to `attributes` sub-section.\n",
    "\n",
    "In this case, the attributes checks are performed only on the name of the protocol:\n",
    "```yaml\n",
    "        attributes:\n",
    "          ProtocolName: \"cmrr_mbep2d_bold_mb2_invertpe\"\n",
    "```\n",
    "\n",
    "Both fieldmaps uses the same protocol, so they are matched by same section,\n",
    "and will get the same bidsified name."
   ]
  },
  {
   "cell_type": "markdown",
   "id": "64dddc69",
   "metadata": {},
   "source": [
    "The solution to this problem, is to find another metadata, which could\n",
    "differentiate between these two series.\n",
    "Comparing the image header dumps for both images:\n",
    "`$PREPARED_PATH/sub-001/ses-s01512/MRI/002-cmrr_mbep2d_bold_mb2_invertpe/f1512-0002-00001-000001-01.json`\n",
    "and\n",
    "`$PREPARED_PATH/sub-001/ses-s01512/MRI/006-cmrr_mbep2d_bold_mb2_invertpe/f1512-0002-00001-000001-01.json`\n",
    "you could realize that almost all parameters and names are the same,\n",
    "except `SeriesNumber`.\n",
    "\n",
    "So we just need to add check for `SeriesNumber` to attributes of section\n",
    "mentioned in error message:\n",
    "```yaml\n",
    "        attributes:\n",
    "          ProtocolName: \"cmrr_mbep2d_bold_mb2_invertpe\"\n",
    "          SeriesNumber: 2\n",
    "```\n",
    "and run `map` again:"
   ]
  },
  {
   "cell_type": "code",
   "execution_count": null,
   "id": "3af2fa23-78ab-4582-b862-e14743656fa2",
   "metadata": {
    "scrolled": true,
    "tags": []
   },
   "outputs": [],
   "source": [
    "bidsme.mapper(PREPARED_PATH, BIDSIFIED_PATH)\n",
    "bidsme.tools.info.reporterrors(logger)\n",
    "bidsme.tools.info.reseterrors(logger)"
   ]
  },
  {
   "cell_type": "markdown",
   "id": "ddf11f49",
   "metadata": {},
   "source": [
    "Now the `006-cmrr_mbep2d_bold_mb2_invertpe` creates it's own section in bidsmap,\n",
    "and generates the same warnings and errors as `002-cmrr_mbep2d_bold_mb2_invertpe`.\n",
    "Thse errors and warnings can be easely fixed using the procedure, described above.\n",
    "\n",
    "> The second fieldmap is taken for fMRI in resting state, \n",
    "and `acq` and `task` should be `rest` and not `nBack`."
   ]
  },
  {
   "cell_type": "markdown",
   "id": "32e2866d",
   "metadata": {
    "tags": []
   },
   "source": [
    "#### Images checking several sections"
   ]
  },
  {
   "cell_type": "markdown",
   "id": "29d1b02e",
   "metadata": {},
   "source": [
    "After fixing the usual errors and warnings, a new warning should appear:\n",
    "\n",
    "**Warning:**\n",
    "```\n",
    "bidsmap._bidsmap(201) - WARNING fmap/0: also checks run: fmap/1\n",
    "```\n",
    "\n",
    "It means that same image will match two or more different sections in bidsmap.\n",
    "In our case, `002-cmrr_mbep2d_bold_mb2_invertpe` (`fmap/0`, first section of fmap)\n",
    "will match section created for `006-cmrr_mbep2d_bold_mb2_invertpe`\n",
    "(`fmap/1`, second section of fmap).\n",
    "\n",
    "We just need to add SeriesNumber criterium to attributes for the second section:\n",
    "```yaml\n",
    "        attributes:\n",
    "          ProtocolName: \"cmrr_mbep2d_bold_mb2_invertpe\"\n",
    "          SeriesNumber: 6\n",
    "```\n",
    "\n",
    "> **Warning:** Index of acquisition (SeriesNumber) is not very reliable. If there is an additional acquisition insetred, all the indexes will become shifted, so use indexes only it's the\n",
    "only way distinguish acquisitions. More reliable way can also be implemented using plugins,\n",
    "and covered in the [advanced mapping tutorial](05-advanced-bidsification.ipynb).\n",
    "\n",
    "When all errors of `006-cmrr_mbep2d_bold_mb2_invertpe` are fixed,\n",
    "continue to run the `map` step.\n",
    "\n",
    "> **Note:** If you feel confident, and you know that the section for task\n",
    "and resting state fMRI will be almost identical, you can just duplicate\n",
    "this section, and adjust the copy to much the resting state\n",
    "(ProtocolName, and task name).\n",
    "The section starts with line `-provenance`, and be carefull to conserve\n",
    "all tabs and spaces, yaml is very sensitive to them.\n",
    "\n",
    "Continue untill you arrive to `010-gre_field_mapping`."
   ]
  },
  {
   "cell_type": "markdown",
   "id": "7b2c316d-d3c0-46e2-9c38-c087be8934d0",
   "metadata": {
    "jp-MarkdownHeadingCollapsed": true,
    "tags": []
   },
   "source": [
    "### 7 - Using metadata for bidsified name generation"
   ]
  },
  {
   "cell_type": "markdown",
   "id": "393ee6de-cf3c-48a9-97ba-d1b91f2e5d23",
   "metadata": {},
   "source": [
    "Arriving to `010-gre_field_mapping`, you should see a new warning:\n",
    "\n",
    "**Warning:**\n",
    "```\n",
    "Modules.base(600) - WARNING 010-gre_field_mapping/0: Can't find 'ScanOptions' attribute from '<ScanOptions>'\n",
    "```\n",
    "This warning just signals that one of the json fields of `MRI/010-gre_field_mapping`\n",
    "uses `<ScanOptions>`,\n",
    "but this field wasn't defined in the header, this field will be replaced\n",
    "by an empty string.\n",
    "It will disappear the next time you run the `map` command, and it is safe\n",
    "to ignore it."
   ]
  },
  {
   "cell_type": "markdown",
   "id": "e63a07fe-3be0-408c-99fc-02a6c0ecf4ad",
   "metadata": {},
   "source": [
    "Also, `010-gre_field_mapping` and the following `011-gre_field_mapping` are taken for\n",
    "the both anatomical T1-weighted and Flair images,\n",
    "so the `IntendedFor` must reflect it:\n",
    "```yaml\n",
    "        json: !!omap\n",
    "          - IntendedFor:\n",
    "              - \"<<session>>/func/<<subject>>_<<session>>_T1w.nii\"\n",
    "              - \"<<session>>/func/<<subject>>_<<session>>_FLAIR.nii\"\n",
    "```"
   ]
  },
  {
   "cell_type": "markdown",
   "id": "535c56c2-cb9e-4941-bb7a-fab8fc69ec5e",
   "metadata": {},
   "source": [
    "#### Dynamic suffix and entities generation"
   ]
  },
  {
   "cell_type": "markdown",
   "id": "1f8b1f7e-b59b-4429-b937-fec315ad35c2",
   "metadata": {},
   "source": [
    "In the section of `010-gre_field_mapping`, you can see that,\n",
    "similarly to the `run` entity we use image metadata to generate\n",
    "bidsified name:\n",
    "```yaml\n",
    "        suffix: magnitude<EchoNumbers>\n",
    "```\n",
    "wich will, automatically generate the suffix `_magnitude1` or `_magnitude1`\n",
    "depending on the `EchoNumbers` value of field map."
   ]
  },
  {
   "cell_type": "markdown",
   "id": "c99db92a-bcf6-4453-84be-c232bbbc6140",
   "metadata": {},
   "source": [
    "`bidsme` interprets a word enclosed in single `<>` as reference\n",
    "to the corresponding metadata entry.\n",
    "\n",
    "For the data format, used in this example, the metadata is stored\n",
    "in a json file, having the same name as the image\n",
    "(you can quickly accede to it by taking the path, given in `provenance`\n",
    "field, and replace extention `.nii` to `.json`.\n",
    "The metadata itself is just a dump of DICOM header, stored in `acqpar`\n",
    "dictionary.\n",
    "\n",
    "For some data formats, where metadata is not stored in open form\n",
    "(DICOM, EDF), `bidsme` will automatically crete a dump of the header\n",
    "in `json` file `bidsme_header_<filename>.json`.\n",
    "\n",
    "Opening the header file, you can explore the metadata.\n",
    "For example, for the `EchoNumbers`, used to generate the suffix:\n",
    "```json\n",
    "      \"ImagedNucleus\": \"1H\",\n",
    "      \"EchoNumbers\": 1,\n",
    "      \"MagneticFieldStrength\": 3,\n",
    "```\n",
    "\n",
    "Some of the metadata values are hidden in the nested structures,\n",
    "dictionaries and lists.\n",
    "To acess them you need to provide full path to a given value,\n",
    "using `/` as separator.\n",
    "\n",
    "For example, if you want to retrieve the nominal B0 field strenght,\n",
    "stored in field `flNominalB0`, in `MrPhoenixProtocol`, you must\n",
    "provide the path:\n",
    "```\n",
    "<MrPhoenixProtocol/sProtConsistencyInfo/flNominalB0>\n",
    "```"
   ]
  },
  {
   "cell_type": "markdown",
   "id": "fada10a3-ccde-4fbe-a01c-08f81501c6a2",
   "metadata": {},
   "source": [
    "Continue to process series, untill you will arrive to `004-cmrr_mbep2d_bold_mb2_task_fat`"
   ]
  },
  {
   "cell_type": "code",
   "execution_count": null,
   "id": "0dac425f-dc37-40cd-b1fd-79ddf0bc27a7",
   "metadata": {
    "scrolled": true,
    "tags": []
   },
   "outputs": [],
   "source": [
    "bidsme.mapper(PREPARED_PATH, BIDSIFIED_PATH)\n",
    "bidsme.tools.info.reporterrors(logger)\n",
    "bidsme.tools.info.reseterrors(logger)"
   ]
  },
  {
   "cell_type": "markdown",
   "id": "1827d459",
   "metadata": {
    "jp-MarkdownHeadingCollapsed": true,
    "tags": []
   },
   "source": [
    "### 8 - Re-using already created sections"
   ]
  },
  {
   "cell_type": "markdown",
   "id": "ef372b0e",
   "metadata": {},
   "source": [
    "When you will arrive to the task fMRI of the second session (`ses-s01513`),\n",
    "you can take a shortcut.\n",
    "We know that the tasks from first and second session will be bidsified\n",
    "with the same name, and will have same metadata.\n",
    "\n",
    "So, instead of creating and filling the second session for\n",
    "`004-cmrr_mbep2d_bold_mb2_task_fat`, we can just make first section\n",
    "of `func` mutch both series."
   ]
  },
  {
   "cell_type": "markdown",
   "id": "385c0bbb",
   "metadata": {},
   "source": [
    "#### Providing list of valies"
   ]
  },
  {
   "cell_type": "markdown",
   "id": "c6380dc3",
   "metadata": {},
   "source": [
    "To do so, in `attributes` subsection, instead of one value associated\n",
    "to `ProtocolName`, we can provide a list:\n",
    "```yaml\n",
    "        attributes:\n",
    "          ProtocolName:\n",
    "            - cmrr_mbep2d_bold_mb2_task_nfat\n",
    "            - cmrr_mbep2d_bold_mb2_task_fat\n",
    "```\n",
    "\n",
    "`bidsme` then, will check if an image have `ProtocolName` matching\n",
    "any of given values. \n",
    "\n",
    "Alternatively, you can use [regular expression](https://docs.python.org/3/library/re.html),\n",
    "to match both:\n",
    "```yaml\n",
    "        attributes:\n",
    "          ProtocolName: cmrr_mbep2d_bold_mb2_task_n?fat\n",
    "```"
   ]
  },
  {
   "cell_type": "code",
   "execution_count": null,
   "id": "76e261c8-1d92-42ca-93ee-1e88055a18ca",
   "metadata": {
    "scrolled": true,
    "tags": []
   },
   "outputs": [],
   "source": [
    "bidsme.mapper(PREPARED_PATH, BIDSIFIED_PATH)\n",
    "bidsme.tools.info.reporterrors(logger)\n",
    "bidsme.tools.info.reseterrors(logger)"
   ]
  },
  {
   "cell_type": "markdown",
   "id": "cf21c950-f1e0-4a88-9d04-704dd1d7ede9",
   "metadata": {},
   "source": [
    "Now the first func section (`func/0`) matches both `004-cmrr_mbep2d_bold_mb2_task_nfat`\n",
    "and `004-cmrr_mbep2d_bold_mb2_task_fat` series.\n",
    "The third func section (`func/2`) is unused, which is reported in:\n",
    "**Warning:**\n",
    "```\n",
    "bidsmap._bidsmap(326) - WARNING MRI/hmriNIFTI/func[2]: No matched recordings\n",
    "```\n",
    "If you search for this section, you will see that the `provenance` field is empty:\n",
    "```yaml\n",
    "      - provenance: ~\n",
    "```\n",
    "meaning that none of the images matched it.\n",
    "So we can safely remove this section from `bidsmap.yaml`."
   ]
  },
  {
   "cell_type": "markdown",
   "id": "00e575eb-aec7-48c4-8150-f971f038957a",
   "metadata": {},
   "source": [
    "Continue to process series, untill you will arrive to `002-al_mtflash3d_sensArray`"
   ]
  },
  {
   "cell_type": "code",
   "execution_count": null,
   "id": "eaa4f2cc-8883-469a-95d4-ef99296ee561",
   "metadata": {
    "scrolled": true,
    "tags": []
   },
   "outputs": [],
   "source": [
    "bidsme.mapper(PREPARED_PATH, BIDSIFIED_PATH)\n",
    "bidsme.tools.info.reporterrors(logger)\n",
    "bidsme.tools.info.reseterrors(logger)"
   ]
  },
  {
   "cell_type": "markdown",
   "id": "9efb2d30",
   "metadata": {
    "jp-MarkdownHeadingCollapsed": true,
    "tags": []
   },
   "source": [
    "### 9 - Models and conformity to BIDS"
   ]
  },
  {
   "cell_type": "markdown",
   "id": "fbfb909e-3f4b-4205-b4c5-ea09222ad093",
   "metadata": {},
   "source": [
    "> **Warning:** Information in this chapter may become obsolete for future\n",
    "versions of `bidsme`!"
   ]
  },
  {
   "cell_type": "markdown",
   "id": "1893a130-24c3-478e-a5b2-6e3841e61754",
   "metadata": {},
   "source": [
    "#### Check for conformity to BIDS"
   ]
  },
  {
   "cell_type": "markdown",
   "id": "d03aca2a-12f9-43c9-a1cc-ddaa2a0f28b8",
   "metadata": {},
   "source": [
    "`bidsme` maintains in memory the list of entities and fields for sidecar json.\n",
    "If you set-up a bidsified name, that deviates from BIDS nameing schema,\n",
    "you will see a warning:\n",
    "\n",
    "**Warning:**\n",
    "```\n",
    "Modules.base(1137) - WARNING 002-al_mtflash3d_sensArray/0: Naming schema not BIDS\n",
    "```\n",
    "\n",
    "You can see it, if you add, for example `part` entity to the bids sub-section\n",
    "of `002-al_mtflash3d_sensArray`.\n",
    "\n",
    "This warning will persist, untill user manually confirms that this naming\n",
    "is exactly what he expects to have, by setting `checked` field to `true`.\n",
    "\n",
    "The role of `checked` will be discussed later."
   ]
  },
  {
   "cell_type": "markdown",
   "id": "f8512f86-0373-4619-b808-ee334687c8a9",
   "metadata": {},
   "source": [
    "#### Using different naming schemas "
   ]
  },
  {
   "cell_type": "markdown",
   "id": "52079bd6-a5f7-4813-a472-a175c44eb485",
   "metadata": {},
   "source": [
    "The acquisistion `002-al_mtflash3d_sensArray` opens the quantitative MRI part of dataset,\n",
    "which should be bidsified in a more\n",
    "[complex way](https://bids-specification.readthedocs.io/en/latest/99-appendices/11-qmri.html).\n",
    "Despite imgaes should be put in usual BIDS modality folders `anat` and `fmap`,\n",
    "the naming schema is different, and different information is required\n",
    "in the sidecar json."
   ]
  },
  {
   "cell_type": "markdown",
   "id": "9ddb1beb-ffda-4ba0-926c-94dd6f664c65",
   "metadata": {},
   "source": [
    "Due to this different schema, the exotic protocols should always produce a warning,\n",
    "which will become annoyng very quickly."
   ]
  },
  {
   "cell_type": "markdown",
   "id": "d572b5b6-1fc7-42d5-9f49-854ed9ae8ded",
   "metadata": {},
   "source": [
    "So, `bidsme` implements so called models, a variants of the naming schemas.\n",
    "For example:\n",
    "```yaml\n",
    "        model: \"mpm_RB1COR\"\n",
    "        suffix: RB1COR                                       \n",
    "        attributes:                                          \n",
    "          ProtocolName: al_mtflash3d_sensArray\n",
    "```\n",
    "will tell `bidsme` to not apply the standard schema, used for fieldmaps,\n",
    "but a special schema, called `mpm_RB1COR`, and thus avoiding\n",
    "the unnessesary warnings."
   ]
  },
  {
   "cell_type": "markdown",
   "id": "dc56be28-f481-483d-9009-0892cac6c215",
   "metadata": {},
   "source": [
    "The naming schema and sidecar json fields for a given modality (in this case MRI)\n",
    "are defined in `$INSTALLATION_PATH/bidsme/Modules/MRI/_MRI.py`. \n",
    "The list of entities is stored in `modalities` dictionary. \n",
    "If an image belongs for example to `anat`, bidsme will load the list of entities from \n",
    "`modalities[\"anat\"]`."
   ]
  },
  {
   "cell_type": "markdown",
   "id": "25fcd009-41d7-4b7c-bee3-f67470d651c2",
   "metadata": {},
   "source": [
    "The optional `model` field will foce to use different list of entities from\n",
    "`modalities` dictionary.\n",
    "We will use the models extensively, while creating map for MPM part\n",
    "of the examle dataset."
   ]
  },
  {
   "cell_type": "markdown",
   "id": "0199915f-f465-477e-9eb4-a394aed98e59",
   "metadata": {},
   "source": [
    "Set the bidsified name following the draft, fix the usual warnings and continue,\n",
    "until you arrive to `005-al_mtflash3d_PDw`"
   ]
  },
  {
   "cell_type": "code",
   "execution_count": null,
   "id": "096e6d18-7abc-4e77-bb39-19c64db107c5",
   "metadata": {
    "scrolled": true,
    "tags": []
   },
   "outputs": [],
   "source": [
    "bidsme.mapper(PREPARED_PATH, BIDSIFIED_PATH)\n",
    "bidsme.tools.info.reporterrors(logger)\n",
    "bidsme.tools.info.reseterrors(logger)"
   ]
  },
  {
   "cell_type": "markdown",
   "id": "005f5dc5-ce6c-482a-9a7a-73ff9988aa2f",
   "metadata": {
    "jp-MarkdownHeadingCollapsed": true,
    "tags": []
   },
   "source": [
    "### 10 - Protecting attributes values"
   ]
  },
  {
   "cell_type": "markdown",
   "id": "5c6f50f8-08f2-4abd-9984-3ca87114653d",
   "metadata": {},
   "source": [
    "The series `005-al_mtflash3d_PDw` and `006-al_mtflash3d_PDw` is actually \n",
    "the same sets of images, but splitted into their phase and magnitude parts.\n",
    "\n",
    "To resolve the `Matches example of already processed run` error, we should\n",
    "find a metadata wich disinguish the magnitude and phase parts,\n",
    "similar as we did for fieldmaps above.\n",
    "\n",
    "Conviniently there is such field in the metadata: `ImageType`:\n",
    "```json\n",
    "\"ImageType\": \"ORIGINAL\\\\PRIMARY\\\\M\\\\ND \", # for magnitude\n",
    "\"ImageType\": \"ORIGINAL\\\\PRIMARY\\\\P\\\\ND \", # for phase\n",
    "```\n",
    "\n",
    "So we just need to add corresponding entry to `attributes`:\n",
    "```yaml\n",
    "       attributes:\n",
    "          ProtocolName: al_mtflash3d_PDw\n",
    "          ImageType: \"ORIGINAL\\\\PRIMARY\\\\M\\\\ND\"\n",
    "```"
   ]
  },
  {
   "cell_type": "code",
   "execution_count": null,
   "id": "0b2245ad-7e98-4b1d-aa5e-edb9a1931101",
   "metadata": {
    "scrolled": true,
    "tags": []
   },
   "outputs": [],
   "source": [
    "bidsme.mapper(PREPARED_PATH, BIDSIFIED_PATH)\n",
    "bidsme.tools.info.reporterrors(logger)\n",
    "bidsme.tools.info.reseterrors(logger)"
   ]
  },
  {
   "cell_type": "markdown",
   "id": "58b00590-1b41-4d84-943e-87c2b3e30863",
   "metadata": {},
   "source": [
    "Doing so, a new error will appear:\n",
    "\n",
    "**Error:**\n",
    "```\n",
    "mapper(388) - ERROR Error processing folder /home/beliy/Work/bidsme/bidsme_example/example1/renamed/sub-001/ses-s01530/MRI/004-al_mtflash3d_PDw in file s1530-0004-00001-000176-01.nii: bad escape \\P at position 8\n",
    "```\n",
    "\n",
    "This rather cryptic error indicates that `bidsme` can't read one of the attributes\n",
    "values.\n",
    "As mentioned above, `bidsme` uses regular exppressions when matching attributes,\n",
    "and the `ImageType` is set to `\"ORIGINAL\\\\PRIMARY\\\\M\\\\ND\"`.\n",
    "The python tries interpret the litteral string as regular expression, and\n",
    "stops at unknown escape character.\n",
    "\n",
    "To tell the `bidsme` that it should use the `ORIGINAL\\\\PRIMARY\\\\M\\\\ND`,\n",
    "as it is.\n",
    "To do so, we need to put it inside single quotes `'`:\n",
    "```yaml\n",
    "        attributes:\n",
    "          ProtocolName: al_mtflash3d_PDw\n",
    "          ImageType: 'ORIGINAL\\\\PRIMARY\\\\M\\\\ND'\n",
    "```"
   ]
  },
  {
   "cell_type": "markdown",
   "id": "13b64fcb-0594-4667-9c59-05279ccd01cc",
   "metadata": {},
   "source": [
    "Now, the `004-al_mtflash3d_PDw` should be processed without errors."
   ]
  },
  {
   "cell_type": "code",
   "execution_count": null,
   "id": "5bfa6b08-a29f-4c5f-967a-9ba290a4c92e",
   "metadata": {
    "scrolled": true,
    "tags": []
   },
   "outputs": [],
   "source": [
    "bidsme.mapper(PREPARED_PATH, BIDSIFIED_PATH)\n",
    "bidsme.tools.info.reporterrors(logger)\n",
    "bidsme.tools.info.reseterrors(logger)"
   ]
  },
  {
   "cell_type": "markdown",
   "id": "5e5c157b-2161-4e5d-8148-cad5142291ac",
   "metadata": {},
   "source": [
    "Continue to process the series untill you arrive to `014-al_B1mapping`.\n",
    "\n",
    "Please note that you will encounter 3 groups of `al_mtflash3d_sensBody`\n",
    "and `al_mtflash3d_sensArray`, and you will need to use `SeriesNumber`\n",
    "to distinguish them."
   ]
  },
  {
   "cell_type": "markdown",
   "id": "2f4ebd56-b105-415f-8d08-7c1e4104c10c",
   "metadata": {
    "jp-MarkdownHeadingCollapsed": true,
    "tags": []
   },
   "source": [
    "### 11 - Filling more placeholders"
   ]
  },
  {
   "cell_type": "markdown",
   "id": "a9eb693d-f22c-4db1-aa78-f89d3cfe83b5",
   "metadata": {},
   "source": [
    "Similarly to other fieldmaps, the `014-al_B1mapping` section contains\n",
    "several placeholders:\n",
    "    - `flip`: indexing the various flip angles used in acquisition\n",
    "    - `FlipAngleSeries`: The full list of flip angles values\n",
    "    - `MixingTime`: Te B1 mixing time used\n",
    "    \n",
    "The `flip` index is easely retrievable from metadata, it corresponds to\n",
    "`AcquisitionNumber`:\n",
    "```yaml\n",
    "        bids: !!omap\n",
    "          - echo: <EchoNumbers>\n",
    "          - flip: <format02d:AcquisitionNumber>\n",
    "          - acq: ~\n",
    "```"
   ]
  },
  {
   "cell_type": "markdown",
   "id": "a16bb0cf-670c-4130-94b9-10084f88973c",
   "metadata": {},
   "source": [
    "It is possible to retrieve the `FlipAngleSeries` and `MixingTime`,\n",
    "but it would require the usage of plugins -- and it will be covered\n",
    "in [the corresponding tutorial](05-advanced-bidsification.ipynb).\n",
    "\n",
    "For now, we will just fill the placeholders by values that we know:\n",
    "```yaml\n",
    "          - FlipAngleSeries: [115, 110, 105, 100, 95]\n",
    "          - MixingTime: 0.0338\n",
    "```"
   ]
  },
  {
   "cell_type": "markdown",
   "id": "85271532-a743-40bc-b1dd-0301966cbd68",
   "metadata": {},
   "source": [
    "The last placeholder is in the `IntendedFor` field, ad we must\n",
    "put the paths to all 6 anatomical series: MTw, PDw and T1w:\n",
    "```yaml\n",
    "          - IntendedFor:                             \n",
    "              - \"<<session>>/anat/<<subject>>_<<session>>_acq-PDw_echo-*_flip-1_mt-off_part-mag_MPM.nii\"\n",
    "              - \"<<session>>/anat/<<subject>>_<<session>>_acq-PDw_echo-*_flip-1_mt-off_part-phase_MPM.nii\"\n",
    "              - \"<<session>>/anat/<<subject>>_<<session>>_acq-T1w_echo-*_flip-2_mt-off_part-mag_MPM.nii\"\n",
    "              - \"<<session>>/anat/<<subject>>_<<session>>_acq-T1w_echo-*_flip-2_mt-off_part-phase_MPM.nii\"\n",
    "              - \"<<session>>/anat/<<subject>>_<<session>>_acq-MTw_echo-*_flip-1_mt-on_part-mag_MPM.nii\"\n",
    "              - \"<<session>>/anat/<<subject>>_<<session>>_acq-MTw_echo-*_flip-1_mt-on_part-phase_MPM.nii\"\n",
    "```"
   ]
  },
  {
   "cell_type": "markdown",
   "id": "e5e2d22c-c14c-4e19-b47f-45201bd21786",
   "metadata": {},
   "source": [
    "After setting `014-al_B1mapping`, the rest of series should be processed without\n",
    "warnings:"
   ]
  },
  {
   "cell_type": "code",
   "execution_count": null,
   "id": "970db5af-8675-4f84-826a-7e635a4bec61",
   "metadata": {
    "scrolled": true,
    "tags": []
   },
   "outputs": [],
   "source": [
    "bidsme.mapper(PREPARED_PATH, BIDSIFIED_PATH)\n",
    "bidsme.tools.info.reporterrors(logger)\n",
    "bidsme.tools.info.reseterrors(logger)"
   ]
  },
  {
   "cell_type": "markdown",
   "id": "8d614ce7-71b6-4de7-af50-0d6782002867",
   "metadata": {
    "jp-MarkdownHeadingCollapsed": true,
    "tags": []
   },
   "source": [
    "## 3 - Finalyzing map"
   ]
  },
  {
   "cell_type": "markdown",
   "id": "881403ff-d4ce-406f-840a-aaaf4bef295a",
   "metadata": {},
   "source": [
    "When you processed all series, and none of them are raising errors and warings,\n",
    "you still should see a warning:\n",
    "\n",
    "**Warning:**\n",
    "```\n",
    "mapper(441) - WARNING Map contains 25 unchecked runs\n",
    "```\n",
    "\n",
    "This warning tells that there 25 sections in `bidsmap.yaml`\n",
    "that didn't recieved final user approval.\n",
    "\n",
    "The last step for creating maps is to manually check and\n",
    "confirm the validity of each of sections."
   ]
  },
  {
   "cell_type": "markdown",
   "id": "71b2695d-6493-455f-b129-bce79abca658",
   "metadata": {},
   "source": [
    "First section in your bidsmap should correspond to `localizer`, in `__ignore__`.\n",
    "We just need to confirm that we want to exclude from bidsification\n",
    "all localizer images.\n",
    "To do so, we need to change the field `checked` to `true`:\n",
    "```yaml\n",
    "    __ignore__:\n",
    "      - provenance: /home/beliy/Work/bidsme/bidsme_example/example1/renamed/sub-001/ses-s01512/MRI/001-localizer/s1512-0001-00001-000001-01.nii\n",
    "        example: __ignore__/sub-001_ses-s01512\n",
    "        checked: true\n",
    "```"
   ]
  },
  {
   "cell_type": "markdown",
   "id": "f7dec037-f425-4dae-ba0d-9ffd09c38bb7",
   "metadata": {},
   "source": [
    "When running the `map` step again, the number of unchecked sections\n",
    "should be 24:"
   ]
  },
  {
   "cell_type": "code",
   "execution_count": null,
   "id": "58fbbcaf-c9f8-4cce-89fa-f25510c389b6",
   "metadata": {
    "scrolled": true,
    "tags": []
   },
   "outputs": [],
   "source": [
    "bidsme.mapper(PREPARED_PATH, BIDSIFIED_PATH)\n",
    "bidsme.tools.info.reporterrors(logger)\n",
    "bidsme.tools.info.reseterrors(logger)"
   ]
  },
  {
   "cell_type": "markdown",
   "id": "ad971071-6c70-4a78-a1a1-a7ee83e256e6",
   "metadata": {
    "jp-MarkdownHeadingCollapsed": true,
    "tags": []
   },
   "source": [
    "### 1 - Filling sidecar json fields"
   ]
  },
  {
   "cell_type": "markdown",
   "id": "1879b309-b4ed-446c-8a9c-1643c90ffb47",
   "metadata": {},
   "source": [
    "The following unchecked section should correspond to `002-cmrr_mbep2d_bold_mb2_invertpe`.\n",
    "But first we need to control and fill json fields."
   ]
  },
  {
   "cell_type": "markdown",
   "id": "8966f97e-6e8a-4b8b-aa72-f7da2152b947",
   "metadata": {},
   "source": [
    "The json subsection represents the metafields that will populate bidsified\n",
    "image\n",
    "[sidecar json](https://bids-specification.readthedocs.io/en/stable/02-common-principles.html#imaging-files).\n",
    "`bidsme` track the\n",
    "[reqired, recommended and optional fields](https://bids-specification.readthedocs.io/en/stable/02-common-principles.html#compulsory-optional-and-additional-data-and-metadata), and automatically populates the json sub-section.\n",
    "\n",
    "The fields are filled as follows:\n",
    " - *REQUIRED* -- filled by `<<placeholder>>`, these fields will raise warnings\n",
    " and, in theory, are already filled during steps above\n",
    " - *RECOMMENDED* -- filled by an empty string `''`\n",
    " - *OPTIONAL* -- filled by null value `~`"
   ]
  },
  {
   "cell_type": "markdown",
   "id": "b9c8f343-d063-4f9d-8e3d-7bd8224b30bd",
   "metadata": {},
   "source": [
    "Each fields in subsection can be filled by a raw value:\n",
    "```yaml\n",
    "          - NumberOfVolumesDiscardedByUser: 0\n",
    "```\n",
    "or by extracted value from image header, putting the name in `<>`:\n",
    "```yaml\n",
    "          - RepetitionTime: <RepetitionTime>\n",
    "```\n",
    "or by internal bidsme parameter, putting the name in `<<>>`:\n",
    "```yaml\n",
    "          - OriginalFile: <<filename>>\n",
    "```"
   ]
  },
  {
   "cell_type": "markdown",
   "id": "9bccfc05-235a-4be1-826b-05d73d52e171",
   "metadata": {},
   "source": [
    "#### Creating non-bids complient sidecar json entries"
   ]
  },
  {
   "cell_type": "markdown",
   "id": "0b44463c-5934-40c3-892c-8ed8ac5c23d2",
   "metadata": {},
   "source": [
    "Sometimes you will need some metadata to process your images,\n",
    "but this metadata is not part of BIDS.\n",
    "\n",
    "To do so, just add a new field into `json` sub-section:\n",
    "```yaml\n",
    "        json: !!omap\n",
    "          - OriginalName: <<filename>>\n",
    "          - EffectiveEchoSpacing: <EffectiveEchoSpacing>\n",
    "```\n",
    "\n",
    "In this example it will add a new field `OriginalName`, which\n",
    "will contain the path to original non-bidsified image."
   ]
  },
  {
   "cell_type": "markdown",
   "id": "6371902d-3771-460d-ae96-2cb8b3ada80e",
   "metadata": {},
   "source": [
    "#### Combyning several meatadata into one string"
   ]
  },
  {
   "cell_type": "markdown",
   "id": "fc3bb94a-e6d9-4057-ae8d-5eb272d428ca",
   "metadata": {},
   "source": [
    "If the value of metadata is a string, you can concatenate several\n",
    "strings into one string.\n",
    "To do so, just combine the text and parameters, similar to what we did to\n",
    "`IntendedFor`:\n",
    "```yaml\n",
    "          - IntendedFor:\n",
    "              - \"<<session>>/func/<<subject>>_<<session>>_task-nBack_dir-AP_bold.nii\"\n",
    "```"
   ]
  },
  {
   "cell_type": "markdown",
   "id": "85672859-7067-4104-9db1-11aa651598f3",
   "metadata": {},
   "source": [
    "If metadata is not string, the concatenetion will still work, but result\n",
    "will automatically converted to string, using the default python parsing,\n",
    "and may lead to unpredicted results.\n",
    "In this case, you can use `format` modificator, to convert a numerical\n",
    "value in controlled way: `<format03d:AcquisitionNumber>` will result\n",
    "into `001`."
   ]
  },
  {
   "cell_type": "markdown",
   "id": "32c6905b-1deb-4997-95a5-52b4ad70e81e",
   "metadata": {},
   "source": [
    "#### Using elements of bidsified name"
   ]
  },
  {
   "cell_type": "markdown",
   "id": "73824688-8554-4da8-8f45-e3191bc5c520",
   "metadata": {},
   "source": [
    "`bidsme` allows also to retrive parts of bidsified names.\n",
    "We already seen that `<<subject>>` and `<<session>>` will\n",
    "retrieve the subject and session id respectively.\n",
    "`<<suffix>>` will retrieve the suffix, and `<<bids:entity>>`\n",
    "will return the corresponding entity:\n",
    "\n",
    "- `<<subject>>`: `sub-001`\n",
    "- `<<session>>`: `ses-s01512`\n",
    "- `<<suffix>>`: `epi`\n",
    "- `<<bids:acq>>`: `nBack`\n",
    "- `<<bids:run>>`: `001`"
   ]
  },
  {
   "cell_type": "markdown",
   "id": "e1c072e2-5484-43f5-a85b-da7d384f2f92",
   "metadata": {},
   "source": [
    "#### Using internal bidsme values"
   ]
  },
  {
   "cell_type": "markdown",
   "id": "966a8d73-800d-4ca4-827c-41e6fcd92d29",
   "metadata": {},
   "source": [
    "`bidsme` allows to retrieve some of his internal variables to be used\n",
    "in the `json` sub-section.\n",
    "We alread seen that `<<filename>>` will retrieve the path to original\n",
    "file, and `<<placeholder>>` will raise a warning.\n",
    "Other internal variables can be retrieved using:\n",
    "\n",
    "- `<<serieNumber>>`: The numero of the current series, same as number \n",
    "    in prepared folder name\n",
    "- `<<serie>>`: The name of the current series, same as prepared folder\n",
    "    name\n",
    "- `<<index>>`: The index (starting with 0) of current image in the\n",
    "    series\n",
    "- `<<nfiles>>`: Total number of images in the current series\n",
    "- `<<filename>>`: Path to the current prepared image\n",
    "- `<<modality>>`: The datatype (anat, func, etc.) of current file\n",
    "- `<<nodule>>`: The modality (MRI, PET, etc.) of current file\n",
    "- `<<placeholder>>`: raises a warning"
   ]
  },
  {
   "cell_type": "markdown",
   "id": "80537afb-43a3-48d2-909a-0d74bd212f67",
   "metadata": {},
   "source": [
    "#### Providing a list of values to the `json` sub-section"
   ]
  },
  {
   "cell_type": "markdown",
   "id": "77e44cef-87a3-4330-bdac-0a8799067c89",
   "metadata": {},
   "source": [
    "If you need to provide a list to a json fild, you can do it in a standard\n",
    "yaml way, either placing values in `[]`:\n",
    "```yaml\n",
    "          - FlipAngleSeries: [115, 110, 105, 100, 95]\n",
    "```\n",
    "or by placing values on new line, and preceding them with `-`:\n",
    "```yaml\n",
    "          - IntendedFor:\n",
    "              - \"<<session>>/anat/<<subject>>_<<session>>_acq-PDw_echo-*_flip-1_mt-off_part-mag_MPM.nii\"\n",
    "              - \"<<session>>/anat/<<subject>>_<<session>>_acq-PDw_echo-*_flip-1_mt-off_part-phase_MPM.nii\"\n",
    "              - \"<<session>>/anat/<<subject>>_<<session>>_acq-T1w_echo-*_flip-2_mt-off_part-mag_MPM.nii\"\n",
    "              - \"<<session>>/anat/<<subject>>_<<session>>_acq-T1w_echo-*_flip-2_mt-off_part-phase_MPM.nii\"\n",
    "              - \"<<session>>/anat/<<subject>>_<<session>>_acq-MTw_echo-*_flip-1_mt-on_part-mag_MPM.nii\"\n",
    "              - \"<<session>>/anat/<<subject>>_<<session>>_acq-MTw_echo-*_flip-1_mt-on_part-phase_MPM.nii\"\n",
    "```"
   ]
  },
  {
   "cell_type": "markdown",
   "id": "7d8b26e7-904a-40c6-9b4a-99b691e51162",
   "metadata": {},
   "source": [
    "#### Providing user-defined values"
   ]
  },
  {
   "cell_type": "markdown",
   "id": "88d3d159-44fc-470b-819d-6cff3a37579c",
   "metadata": {},
   "source": [
    "`bidsme` allows to fill the sidecar json with user-defined values,\n",
    "for example, based on a combination of image metadata. \n",
    "However, it requires a plugins usage, and covered in a [separate\n",
    "tutorial](05-advanced-bidsification.ipynb)"
   ]
  },
  {
   "cell_type": "markdown",
   "id": "a4469321-29a3-4820-b20f-b2e17fb4016c",
   "metadata": {},
   "source": [
    "When you filled all required sidecar json fields, it is good to run\n",
    "the `map` step again, to check if `bidsme` can correctly interpret\n",
    "new values:"
   ]
  },
  {
   "cell_type": "code",
   "execution_count": null,
   "id": "a5f65bb7-6196-4e8d-88e7-87343a7d6ff6",
   "metadata": {
    "scrolled": true,
    "tags": []
   },
   "outputs": [],
   "source": [
    "bidsme.mapper(PREPARED_PATH, BIDSIFIED_PATH)\n",
    "bidsme.tools.info.reporterrors(logger)\n",
    "bidsme.tools.info.reseterrors(logger)"
   ]
  },
  {
   "cell_type": "markdown",
   "id": "5f4ce54c-6245-413f-be13-4f41e563e01e",
   "metadata": {},
   "source": [
    "If you see a warning similar to:\n",
    "\n",
    "**Warning:**\n",
    "```\n",
    "Modules.base(619) - WARNING 002-cmrr_mbep2d_bold_mb2_invertpe/0: Can't find 'RepetitionTime2' attribute from '<RepetitionTime2>'\n",
    "```\n",
    "then you shoud fix the error in the corresponding metadata field,\n",
    "here just remove `2` from `<RepetitionTime2>`."
   ]
  },
  {
   "cell_type": "markdown",
   "id": "d0018bdd-bcf3-41d1-89e3-083b7a27ceb8",
   "metadata": {
    "jp-MarkdownHeadingCollapsed": true,
    "tags": []
   },
   "source": [
    "### 2 - Validating the section"
   ]
  },
  {
   "cell_type": "markdown",
   "id": "8c8526cd-1043-4190-a43f-4c0e3f5c59dc",
   "metadata": {},
   "source": [
    "When you are happy with the filled json metadata, you need to do the final\n",
    "check:\n",
    "\n",
    "1. Check that file in the `provenance` field is corresponds well to the\n",
    "attributed data type (fmap, anat, etc.)\n",
    "2. Check that the bidsified name, given in `example` field is correct for\n",
    "the file in the `provenance` field\n",
    "3. Check that all needed json fields are filled\n",
    "\n",
    "If all good, remove the empty metadata (meatdata with empty values `''`),\n",
    "so final sidecar json will not be polluted by empy strings.\n",
    "\n",
    "> **Note:** If all fields in the json sub-section are to be removed,\n",
    "you need to give an empty ordered dictionary as value to the subection:\n",
    ">```yaml\n",
    ">        json: !!omap []\n",
    ">```\n",
    ">Elsewere you will render `bidsmap.yaml` unreadable by `bidsme`"
   ]
  },
  {
   "cell_type": "markdown",
   "id": "d490ef6b-3447-43bb-98ee-c58e601270b3",
   "metadata": {},
   "source": [
    "Finally you need to change the value of the field `checked` to `true`:\n",
    "```yaml\n",
    "      - provenance: /home/beliy/Work/bidsme/bidsme_example/example1/renamed/sub-001/ses-s01512/MRI/002-cmrr_mbep2d_bold_mb2_invertpe/f1512-0002-00001-000001-01.nii\n",
    "        example: fmap/sub-001_ses-s01512_acq-nBack_dir-PA_run-001_epi\n",
    "        checked: true\n",
    "```"
   ]
  },
  {
   "cell_type": "markdown",
   "id": "8b3e2fad-9bbd-425f-948a-0451e9c97b6c",
   "metadata": {},
   "source": [
    "This will validate the section. \n",
    "\n",
    "Continue to perform final checks to all section."
   ]
  },
  {
   "cell_type": "markdown",
   "id": "80465a22-f21c-4c7a-a8d8-8b330acf87de",
   "metadata": {},
   "source": [
    "When all sections are validated, run the `map` step again, to ensure\n",
    "you don't have any warnings:"
   ]
  },
  {
   "cell_type": "code",
   "execution_count": null,
   "id": "33899f25-1882-496c-8310-0550d6d7059b",
   "metadata": {
    "scrolled": true,
    "tags": []
   },
   "outputs": [],
   "source": [
    "bidsme.mapper(PREPARED_PATH, BIDSIFIED_PATH)\n",
    "bidsme.tools.info.reporterrors(logger)\n",
    "bidsme.tools.info.reseterrors(logger)"
   ]
  },
  {
   "cell_type": "markdown",
   "id": "2ad363ba-fb43-42ba-aeb8-19504b2549be",
   "metadata": {
    "jp-MarkdownHeadingCollapsed": true,
    "tags": []
   },
   "source": [
    "## 4 - Conclusion"
   ]
  },
  {
   "cell_type": "markdown",
   "id": "072f4e0c-83b0-47a6-a606-a458ed1c8601",
   "metadata": {},
   "source": [
    "Once the `map` step don't produce any warnings, we are ready to\n",
    "finally bidsify the dataset.\n",
    "\n",
    "The `bidsmap.yaml` still may have need some minor corrections,\n",
    "after inspection of bidsified datas, but the bulk of the work\n",
    "is one.\n",
    "\n",
    "It will be a good idea to save `bidsmap.yaml` into a safe place.\n",
    "For the reference, my [bidsmap.yaml](../Files/MRI_bidsmap_prepared.yaml)\n",
    "at the current stage is saved in `Files` directory in the root of tutorial."
   ]
  },
  {
   "cell_type": "markdown",
   "id": "e0dd9e02-6306-4f55-bd6b-236a90093acf",
   "metadata": {},
   "source": [
    "Now we are ready to do the [bidsification](03-basic-bidsification.ipynb)"
   ]
  }
 ],
 "metadata": {
  "kernelspec": {
   "display_name": "bidsme_env (Python)",
   "language": "python",
   "name": "bidsme_env"
  },
  "language_info": {
   "codemirror_mode": {
    "name": "ipython",
    "version": 3
   },
   "file_extension": ".py",
   "mimetype": "text/x-python",
   "name": "python",
   "nbconvert_exporter": "python",
   "pygments_lexer": "ipython3",
   "version": "3.8.10"
  }
 },
 "nbformat": 4,
 "nbformat_minor": 5
}
