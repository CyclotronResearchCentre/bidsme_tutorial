{
 "cells": [
  {
   "cell_type": "markdown",
   "id": "48d151fc-cf93-4875-983f-f62b6340a41a",
   "metadata": {
    "jp-MarkdownHeadingCollapsed": true,
    "tags": []
   },
   "source": [
    "## 0 - Dataset installation"
   ]
  },
  {
   "cell_type": "markdown",
   "id": "83b425a9",
   "metadata": {},
   "source": [
    "This tutorial is based on syntetic MRI dataset, which can be cloned\n",
    "from GitLab:\n",
    "```bash\n",
    "cd <work directory>\n",
    "git clone https://gitlab.uliege.be/CyclotronResearchCentre/Public/bidstools/bidsme/bidsme_example\n",
    "cd bidsme_example/example1\n",
    "```\n",
    "\n",
    "The example dataset is a lightweighted dummy MRI dataset of 4 subjects and 3 sessions.\n",
    "In the `example1/` folder there are four subfolders:"
   ]
  },
  {
   "cell_type": "markdown",
   "id": "c27a9178-c6ad-49b9-b7e3-c3b46bd634a3",
   "metadata": {},
   "source": [
    "- `source`, containing the raw, unbidsified dataset\n",
    "- `renamed`, an empty folder that will contain the prepared dataset\n",
    "- `bids`, an empty folder that will contain the bidsified dataset\n",
    "- `resources`, containing all needed configurations and plugins needed to bidfify this dataset\n",
    "\n",
    "> You can use your own dataset, but all commands in the tutorial must be adapted to it!"
   ]
  },
  {
   "cell_type": "markdown",
   "id": "e7d8a584-fc77-4c9d-9045-3efd2391f4e1",
   "metadata": {
    "jp-MarkdownHeadingCollapsed": true,
    "tags": []
   },
   "source": [
    "## 1 - Path definitions"
   ]
  },
  {
   "cell_type": "markdown",
   "id": "8709b6b7-b26f-44a8-8b85-821006e3e041",
   "metadata": {},
   "source": [
    "We will pass regularly the different sub-folders of the example dataset,\n",
    "so for convinience we will define these paths as variables and\n",
    "will put into a script."
   ]
  },
  {
   "cell_type": "markdown",
   "id": "38fd60d6",
   "metadata": {},
   "source": [
    "Next is to define paths to the dataset we will use as an\n",
    "example:"
   ]
  },
  {
   "cell_type": "code",
   "execution_count": null,
   "id": "4befa808",
   "metadata": {},
   "outputs": [],
   "source": [
    "DATASET_PATH = \"/home/beliy/Works/bidsme_example\""
   ]
  },
  {
   "cell_type": "markdown",
   "id": "977f3d65",
   "metadata": {},
   "source": [
    "If you follow the `bidsme-example/example_1` dataset,\n",
    "the following paths can be generated automatically.\n",
    "\n",
    " - `SOURCE_PATH` -- Path to source dataset, which contains raw images.\n",
    " - `PREPARED_PATH` -- Path where we will store intermediate (prepared) dataset.\n",
    " - `BIDSIFIED_PATH` -- Path where we will store bidsdsified dataset.\n",
    " - `RESOURCES_PATH` -- Path where all configuration files needed for bidsification are stored. We will recreate them, but you can check them for reference there.\n",
    " - `MAP_FILE` -- Path to `bidsmap.yaml` file, that will define how we will bidsify dataset.\n",
    "\n",
    "Otherwise you should redefine them to point to your dataset."
   ]
  },
  {
   "cell_type": "code",
   "execution_count": null,
   "id": "c91c8be8-4bac-4c3d-808d-c26fcfc00f48",
   "metadata": {},
   "outputs": [],
   "source": [
    "import os"
   ]
  },
  {
   "cell_type": "code",
   "execution_count": null,
   "id": "518fcaa2-fdd3-4313-aae4-6a177ddd0595",
   "metadata": {},
   "outputs": [],
   "source": [
    "SOURCE_PATH = os.path.join(DATASET_PATH, \"example1\", \"source\")\n",
    "PREPARED_PATH = os.path.join(DATASET_PATH, \"example1\", \"renamed\")\n",
    "BIDSIFIED_PATH = os.path.join(DATASET_PATH, \"example1\", \"bids\")\n",
    "RESOURCES_PATH = os.path.join(DATASET_PATH, \"example1\", \"resources\")"
   ]
  },
  {
   "cell_type": "markdown",
   "id": "e3228d3d",
   "metadata": {},
   "source": [
    "The following cells will verify if the defined directories exist:"
   ]
  },
  {
   "cell_type": "code",
   "execution_count": null,
   "id": "7808cbc3",
   "metadata": {},
   "outputs": [],
   "source": [
    "print(\"Dataset path:\", os.path.isdir(DATASET_PATH))\n",
    "print(\"Source path:\", os.path.isdir(SOURCE_PATH))\n",
    "print(\"Prepared path:\", os.path.isdir(PREPARED_PATH))\n",
    "print(\"Bidsified path:\", os.path.isdir(BIDSIFIED_PATH))\n",
    "print(\"Resources path:\", os.path.isdir(RESOURCES_PATH))"
   ]
  },
  {
   "cell_type": "markdown",
   "id": "7733b3aa",
   "metadata": {},
   "source": [
    "If you see some `False`, please recheck the paths."
   ]
  },
  {
   "cell_type": "markdown",
   "id": "5a438d42-ac93-46ed-8fe5-709e7e6c7719",
   "metadata": {
    "jp-MarkdownHeadingCollapsed": true,
    "tags": []
   },
   "source": [
    "## 2 - Exporting paths to script"
   ]
  },
  {
   "cell_type": "markdown",
   "id": "1ce70f22-3222-4214-ab18-6501dc1a6592",
   "metadata": {},
   "source": [
    "Now, we will export this notebook as a script, and place it into `MRI_tutorial/Configuration`\n",
    "folder:"
   ]
  },
  {
   "cell_type": "markdown",
   "id": "fa02e434",
   "metadata": {},
   "source": [
    "In **Jupyter-lab**:\n",
    "\n",
    ">To do so, you need to go to `File ->Save and export Notebook as -> Executable script`.\n",
    "\n",
    "In **Jupyter-notebook**:\n",
    ">Go to the menu `File -> Download as -> Python(.py)`.\n",
    "\n",
    "If your browser offers the opportunity to save file in a given directory,\n",
    "save it in the `Configurations` folder in the root directory of tutorials.\n",
    "Overwise, move the file from `Downloads` folder to `MRI_tutorial/Configuration`.\n",
    "\n",
    "You will need to change the the generated python script only if you move\n",
    "tutorial dataset into different place."
   ]
  },
  {
   "cell_type": "markdown",
   "id": "61bebe8f-2208-40b0-8412-3c492a35c618",
   "metadata": {},
   "source": [
    "Obviously, you can create the script directly, but be sure to define all the paths above!"
   ]
  }
 ],
 "metadata": {
  "kernelspec": {
   "display_name": "bidsme_env (Python)",
   "language": "python",
   "name": "bidsme_env"
  },
  "language_info": {
   "codemirror_mode": {
    "name": "ipython",
    "version": 3
   },
   "file_extension": ".py",
   "mimetype": "text/x-python",
   "name": "python",
   "nbconvert_exporter": "python",
   "pygments_lexer": "ipython3",
   "version": "3.8.10"
  }
 },
 "nbformat": 4,
 "nbformat_minor": 5
}
