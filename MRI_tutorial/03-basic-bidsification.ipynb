{
 "cells": [
  {
   "cell_type": "markdown",
   "id": "fcae91a6-c7ad-4694-9ded-9c8083f9fb87",
   "metadata": {
    "jp-MarkdownHeadingCollapsed": true,
    "tags": []
   },
   "source": [
    "## 0 - Introduction"
   ]
  },
  {
   "cell_type": "markdown",
   "id": "fca09603-13e0-47b8-89c6-4d6955de652b",
   "metadata": {},
   "source": [
    "Once the `bidsmap.yaml` is created and properly tested,\n",
    "the bidsification will be performed easely,\n",
    "just running the `bidsme.bidsify()` function."
   ]
  },
  {
   "cell_type": "markdown",
   "id": "2853c38d-4e53-4d4d-8e46-01ed29781727",
   "metadata": {},
   "source": [
    "But first we need to initialize the paths to deataset,\n",
    "load helper fonctions from `tools.py` and initialize the bidsme:"
   ]
  },
  {
   "cell_type": "code",
   "execution_count": null,
   "id": "54908c93-3ea1-4636-a0e3-096bf7cc4cce",
   "metadata": {},
   "outputs": [],
   "source": [
    "%run \"./Configuration/00-tutorial-paths.py\""
   ]
  },
  {
   "cell_type": "code",
   "execution_count": null,
   "id": "eac13f01-906b-44ed-b3e8-85e126cc69a0",
   "metadata": {},
   "outputs": [],
   "source": [
    "%run \"../Tools/tools.py\""
   ]
  },
  {
   "cell_type": "code",
   "execution_count": null,
   "id": "c3176dd7-489c-45c7-b5bc-e8d0d3c1607f",
   "metadata": {},
   "outputs": [],
   "source": [
    "import bidsme\n",
    "logger = bidsme.init()"
   ]
  },
  {
   "cell_type": "markdown",
   "id": "acdc34c4-ed63-4b37-934b-1c3119cf1ab8",
   "metadata": {
    "jp-MarkdownHeadingCollapsed": true,
    "tags": []
   },
   "source": [
    "## 1 - Bidsification"
   ]
  },
  {
   "cell_type": "markdown",
   "id": "d8a7fbe0-4239-4691-8285-022c3186c774",
   "metadata": {},
   "source": [
    "The function `bidsme.bidsify()` is responsible for the actual bidsification\n",
    "of the dataset:"
   ]
  },
  {
   "cell_type": "code",
   "execution_count": null,
   "id": "62ba6e37-f1b8-4fec-9503-58e6087ff325",
   "metadata": {
    "scrolled": true,
    "tags": []
   },
   "outputs": [],
   "source": [
    "help(bidsme.bidsify)"
   ]
  },
  {
   "cell_type": "markdown",
   "id": "7e2bb551-801d-492a-a497-f27558a6eb9c",
   "metadata": {},
   "source": [
    "The parameters for `bidsme.bidsify()` are the same as `bidsme.mapper()`:"
   ]
  },
  {
   "cell_type": "code",
   "execution_count": null,
   "id": "01259723-94e0-4b18-91c7-0fae7d39096d",
   "metadata": {
    "scrolled": true,
    "tags": []
   },
   "outputs": [],
   "source": [
    "bidsme bidsify $PREPARED_PATH $BIDSIFIED_PATH -b $MAP_FILE"
   ]
  },
  {
   "cell_type": "markdown",
   "id": "93186591-5368-4b17-952c-46582df1afc5",
   "metadata": {},
   "source": [
    "The `bidsify` will produce some warnings, but if `bidsmap` file from previous tutorial \n",
    "is consructed correctly, it should no be errors.\n",
    "\n",
    "The first two warnings you may encounter is:\n",
    "```\n",
    "bidsify(203) - WARNING Dataset description file 'dataset_description.json' not found in '/home/beliy/Work/bidsme/bidsme_example/example1/bids'\n",
    "bidsify(209) - WARNING Dataset readme file 'README' not found in '/home/beliy/Work/bidsme/bidsme_example/example1/bids'\n",
    "```\n",
    "\n",
    "[BIDS](https://bids-specification.readthedocs.io/en/stable/03-modality-agnostic-files.html#dataset-description)\n",
    "requires two description files `README` and `dataset_description.json` to be\n",
    "in the datset, so bidsme warns user if these files are missing.\n",
    "\n",
    "Next warning you may encounter is related to diffusion images:\n",
    "```\n",
    "Modules.MRI.MRI(78) - WARNING 013-cmrr_mbep2d_diff_NODDI/0 missing bvec file for diffusion recording\n",
    "```\n",
    "\n",
    "[BIDS](https://bids-specification.readthedocs.io/en/stable/04-modality-specific-files/01-magnetic-resonance-imaging-data.html#required-gradient-orientation-information)\n",
    "requires that each diffusion file is accompagnied by a gradient orientation file.\n",
    "If bidsme encounter a diffusion file (file that will go into `dwi` modality),\n",
    "it will check if there a file with same name but with extentions `.bval` and `.bvec`.\n",
    "If these files are found, they will inherit same bidsified name as diffusion image file\n",
    "and copied to bidsified dataset, but if these files are missing, an warning will be shown.\n",
    "\n",
    "These bval/bvec files must be created by user, either using script, or using plugin."
   ]
  },
  {
   "cell_type": "markdown",
   "id": "8d8ab574-18dd-4509-b11b-aa928d8ee384",
   "metadata": {
    "jp-MarkdownHeadingCollapsed": true,
    "tags": []
   },
   "source": [
    "### 1-Verifying bidsificated names"
   ]
  },
  {
   "cell_type": "markdown",
   "id": "95d466e7-b772-426b-ab1a-8be3aba124a4",
   "metadata": {},
   "source": [
    "After the first bidsification it's important to go into bidsified folder and verify\n",
    "manually the bidsified names, by comparing them with [projected names](./Files/projected_names.md):"
   ]
  },
  {
   "cell_type": "code",
   "execution_count": null,
   "id": "0442514c-cb8f-465e-80ae-b45f3fe81490",
   "metadata": {},
   "outputs": [],
   "source": [
    "!ls $BIDSIFIED_PATH/sub-001/ses-HCL/fmap"
   ]
  },
  {
   "cell_type": "markdown",
   "id": "cff78245-0eca-4007-84d9-e90050d319ce",
   "metadata": {},
   "source": [
    "You may see slight deviation from the original names, namely apparation of the `run-` entity, but overall the names should follow the initial schema.\n",
    "\n",
    "If one of the names are incorrect, you need to find the source of error in `bidsmap.yaml`\n",
    "and correct it. Once it's done, remove bidsified dataset, and run bidsification again,\n",
    "untill all names are as they should."
   ]
  },
  {
   "cell_type": "markdown",
   "id": "f64b0e9a-c327-4df8-876f-2cf814c1b842",
   "metadata": {
    "jp-MarkdownHeadingCollapsed": true,
    "tags": []
   },
   "source": [
    "### 2-Conflict in the bidsified names   "
   ]
  },
  {
   "cell_type": "markdown",
   "id": "d272a019-481f-4b73-a608-958f82586a65",
   "metadata": {},
   "source": [
    "`Bidsme` will never overwrite existing files during bidsification.\n",
    "If he tries to bidsify a given file, and that file already exists\n",
    "in the bidsify dataset, `bidsme` will refuse to overwrite the file and raise \n",
    "an **error**:\n",
    "```\n",
    "bidsify(107) - ERROR bids/sub-004/ses-s01629/fmap/sub-004_ses-s01629_acq-RFoff_dir-AP_run-001_epi.json exists at destination\n",
    "```"
   ]
  },
  {
   "cell_type": "markdown",
   "id": "306042c1-0cc2-4302-984d-1c56634df629",
   "metadata": {},
   "source": [
    "> *N.B.*: You can easely see this error if you run two bidsifications\n",
    "steps one after another.\n",
    "As it will try to bidsify the same files, that will end up\n",
    "with the same names."
   ]
  },
  {
   "cell_type": "markdown",
   "id": "9b755e2c-32a9-41ca-8a53-76eb7841371d",
   "metadata": {},
   "source": [
    "Normally majority of sources of duplicated file names should be automatically\n",
    "detected during the mapping stage.\n",
    "However it may happen that some duplicated files will escape the tests.\n",
    "If it happens, you should investigate the source of conflict and fix it\n",
    "as described in [basic-mapping tutorial](02-basic-mapping.ipynb)."
   ]
  },
  {
   "cell_type": "markdown",
   "id": "7bf32a6f-51cc-4e6e-983f-7d602f6030c0",
   "metadata": {},
   "source": [
    "`bidsme` will rise an error for each already processed file, which\n",
    "can cause problems when new subjects into already existing dataset.\n",
    "\n",
    "`bidsme` provide several options to control which subjects and sessions are to bidsify.\n",
    "These options are the same as described in **Running on subset of subjects**\n",
    "[section of basic preparation tutorial](01-basic-preparation.ipynb)."
   ]
  },
  {
   "cell_type": "markdown",
   "id": "d0ffe89e-52a1-4d14-9000-d50b91fe4583",
   "metadata": {},
   "source": [
    "To no repeat the parameters:\n",
    "\n",
    " - `sub_list` with provided list of subject will make bidsification run only on select subjects\n",
    " - `sub_skip_tsv` with value `True` will run bidsification only on subjects **not present** in `participants.tsv` table in bidsified dataset\n",
    " - `sub_skip_dir` with value `True` will run bidsification only on subjects **not present** on disk, i.e. if `sub-123` exist in bidsified folder, then this subjects is skipped\n",
    " - `ses_skip_dir` with value `True` will run bidsification only on sessions **not present** on disk, similarly to `sub_skip_dir`, but at session level.\n",
    " \n",
    "> *N.B.* By default it is better to run bidsification with `sub_skip_tsv`, and when needed to re-bidsify a given subject, just remove corresponding `sub-` folder and removing corresponding line in `participants.tsv`"
   ]
  },
  {
   "cell_type": "markdown",
   "id": "486961e7-81d8-46d7-bd14-ed467ae1d914",
   "metadata": {
    "jp-MarkdownHeadingCollapsed": true,
    "tags": []
   },
   "source": [
    "### 3-Verification of sidecar json contents   "
   ]
  },
  {
   "cell_type": "markdown",
   "id": "c93a64c3-1987-4a77-972a-851496ecaf59",
   "metadata": {},
   "source": [
    "Outside the bidsified names it is important to verify the corectness\n",
    "of values entered in the sidecar json files.\n",
    "An incorrect entry may lead to incorrect image processing/reconstruction."
   ]
  },
  {
   "cell_type": "markdown",
   "id": "256351a0-b453-4290-a596-41c9937c6c23",
   "metadata": {},
   "source": [
    "Normally, majority of the entries are filled automatically,\n",
    "exported directly from the header\n",
    "(**that's doesn'n mean they are correct! Error can happen on every level!**)\n",
    "but some may be calculated in plugin or imputed by user\n",
    "directly. Once you bidsify one subject, you should verify every\n",
    "sidecar json for the values.\n",
    "If one subject is correct, other should be correct also."
   ]
  }
 ],
 "metadata": {
  "kernelspec": {
   "display_name": "bidsme_env (Python)",
   "language": "python",
   "name": "bidsme_env"
  },
  "language_info": {
   "codemirror_mode": {
    "name": "ipython",
    "version": 3
   },
   "file_extension": ".py",
   "mimetype": "text/x-python",
   "name": "python",
   "nbconvert_exporter": "python",
   "pygments_lexer": "ipython3",
   "version": "3.8.10"
  }
 },
 "nbformat": 4,
 "nbformat_minor": 5
}
