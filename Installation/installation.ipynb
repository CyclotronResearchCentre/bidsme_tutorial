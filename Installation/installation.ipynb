{
 "cells": [
  {
   "cell_type": "markdown",
   "id": "a16ba66f",
   "metadata": {
    "heading_collapsed": true,
    "jp-MarkdownHeadingCollapsed": true,
    "tags": []
   },
   "source": [
    "## 1 - Installing bidsme"
   ]
  },
  {
   "cell_type": "markdown",
   "id": "e22e46f3",
   "metadata": {},
   "source": [
    "`Bidsme` can be installed using `pip`,\n",
    "but before we must verify that you use correct kernel, and `pip` path is in the correct environment:"
   ]
  },
  {
   "cell_type": "code",
   "execution_count": null,
   "id": "fb8e1058-ee6d-4f2c-8be6-a46330f4ace1",
   "metadata": {},
   "outputs": [],
   "source": [
    "import sys\n",
    "print(sys.executable)\n",
    "print(sys.version)"
   ]
  },
  {
   "cell_type": "markdown",
   "id": "c912cd81-8069-4610-a54b-7ec5b8fe1b19",
   "metadata": {},
   "source": [
    "You should see the python version (verify if it's >= 3.6)\n",
    "and path to executable (verify it points to dedicated environment)."
   ]
  },
  {
   "cell_type": "markdown",
   "id": "8e95272c",
   "metadata": {
    "hidden": true
   },
   "source": [
    "If kernel is correct, you can install `bidsme`:"
   ]
  },
  {
   "cell_type": "code",
   "execution_count": null,
   "id": "9d4765fe",
   "metadata": {
    "hidden": true,
    "scrolled": true
   },
   "outputs": [],
   "source": [
    "pip install git+https://gitlab.uliege.be/CyclotronResearchCentre/Public/bidstools/bidsme/bidsme.git"
   ]
  },
  {
   "cell_type": "markdown",
   "id": "c95a4b40-6045-476d-8683-67f4d652e259",
   "metadata": {},
   "source": [
    "This will install `bidsme`, together with its dependencies."
   ]
  },
  {
   "cell_type": "markdown",
   "id": "48a66e89-b5cc-4f41-bcad-0351ea2ab649",
   "metadata": {
    "jp-MarkdownHeadingCollapsed": true,
    "tags": []
   },
   "source": [
    "## 2 - Verifying installation"
   ]
  },
  {
   "cell_type": "markdown",
   "id": "5f28fdb7-c005-471b-9ec5-91250b66aff3",
   "metadata": {},
   "source": [
    "To test the installation, we can just import and run `init()` function:"
   ]
  },
  {
   "cell_type": "code",
   "execution_count": null,
   "id": "c81ce21b-71ba-44b6-bb73-d8d3608b348c",
   "metadata": {},
   "outputs": [],
   "source": [
    "import bidsme\n",
    "bidsme.init()"
   ]
  },
  {
   "cell_type": "markdown",
   "id": "90778124-1264-4d67-a08a-8684532ea7ed",
   "metadata": {},
   "source": [
    "If all good, you will see the bidsme version.\n",
    "If not, you may recieve one or several `module not found` errors.\n",
    "In this case verify if installation above was succesful."
   ]
  },
  {
   "cell_type": "markdown",
   "id": "af3339ef-dddd-4a89-a9fd-86df9a696258",
   "metadata": {
    "jp-MarkdownHeadingCollapsed": true,
    "tags": []
   },
   "source": [
    "## 3 - Additional imports"
   ]
  },
  {
   "cell_type": "markdown",
   "id": "1500c74a-6883-451e-8734-461920502662",
   "metadata": {},
   "source": [
    "When working with specific image formats, bidsme will require additional\n",
    "modules, that are not installed by default:"
   ]
  },
  {
   "cell_type": "markdown",
   "id": "14a8babe",
   "metadata": {
    "hidden": true
   },
   "source": [
    " - `pydicom>=1.4.2`: to work with DICOM files\n",
    " - `nibabel`: to work with nifti files, and to access some useful functionalities for MRI (for ex. merging 3D images into 4D)\n",
    " - `mne`: to work with EEG files"
   ]
  },
  {
   "cell_type": "markdown",
   "id": "cc2367c7-f7b0-477d-b99a-ebf0dfede124",
   "metadata": {},
   "source": [
    "If needed, you can install them using the `pip`:"
   ]
  },
  {
   "cell_type": "code",
   "execution_count": null,
   "id": "b506f4d3",
   "metadata": {
    "hidden": true
   },
   "outputs": [],
   "source": [
    "pip install pydicom>=1.4.2 nibabel mne"
   ]
  },
  {
   "cell_type": "markdown",
   "id": "6ae63347-711c-4d8b-a2e4-d8371ba02315",
   "metadata": {
    "jp-MarkdownHeadingCollapsed": true,
    "tags": []
   },
   "source": [
    "## 3 - Running bidsme"
   ]
  },
  {
   "cell_type": "markdown",
   "id": "7a04cf1e-8995-47a5-b7cc-c65ba9b5ba95",
   "metadata": {},
   "source": [
    "`bidsme` provides both command line and functional interface.\n",
    "In the tutorials I will describe the latter, but will also give\n",
    "the equivalent commands in CLI."
   ]
  },
  {
   "cell_type": "markdown",
   "id": "3ec61660-33f7-49b9-8826-467753d2adce",
   "metadata": {
    "heading_collapsed": true,
    "hidden": true,
    "jp-MarkdownHeadingCollapsed": true,
    "tags": []
   },
   "source": [
    "### 1 - Running from Jupyter Notebook"
   ]
  },
  {
   "cell_type": "markdown",
   "id": "fffe2d43-b039-4755-8e78-761da04ab371",
   "metadata": {
    "heading_collapsed": true,
    "hidden": true,
    "tags": []
   },
   "source": [
    "If you want to run `bidsme` from a `Jupyter` notebook,\n",
    "you just need to import `bidsme` module:"
   ]
  },
  {
   "cell_type": "code",
   "execution_count": null,
   "id": "04f00fdd-ae03-41b8-ac54-7c7d40cf214d",
   "metadata": {
    "hidden": true
   },
   "outputs": [],
   "source": [
    "import bidsme"
   ]
  },
  {
   "cell_type": "markdown",
   "id": "21241e65-1613-467e-8e3c-5e9f9d987eef",
   "metadata": {},
   "source": [
    "This will give acess to:`bidsme.init()`, `bidsme.prepare()`, `bidsme.mapper()`\n",
    "and `bidsme.bidsify()` functions, constituting the pipeline for bidsification."
   ]
  },
  {
   "cell_type": "markdown",
   "id": "6feb2541-7ec5-4e8a-b4c2-4fc425ae397b",
   "metadata": {},
   "source": [
    " - `bidsme.init()` -- initialize the logging system of `bidsme`, must be executed once per session\n",
    " - `bidsme.prepare()` -- prepare the dataset for bidsification (see [the preparation tutorial](../MRI_tutorial/01-basic-preparation.ipynb))\n",
    " - `bidsme.mapper()` -- create the map file for bidsification (see [the mapping tutorial](../MRI_tutorial/02-basic-mapping.ipynb))\n",
    " - `bidsme.bidsify()` -- bidsify the prepared dataset (see [the bidsification tutorial](../MRI_tutorial/03-basic-bidsification.ipynb))"
   ]
  },
  {
   "cell_type": "markdown",
   "id": "c4cf34cd-767d-4aca-af07-df16c4b7cae0",
   "metadata": {
    "heading_collapsed": true,
    "hidden": true,
    "jp-MarkdownHeadingCollapsed": true,
    "tags": []
   },
   "source": [
    "### 2 - Running outside Jupyter"
   ]
  },
  {
   "cell_type": "markdown",
   "id": "afb0daf0-11fc-4ba0-aed3-43f159da6f9a",
   "metadata": {},
   "source": [
    "After installation with `pip`, you should have an access to `bidsme` command,\n",
    "as long as you run it from within of activated environment:"
   ]
  },
  {
   "cell_type": "markdown",
   "id": "591f3ef7-51e7-4f6d-a927-8c4b26a27c4b",
   "metadata": {},
   "source": [
    "```bash\n",
    "> bidsme <subcommand> <options>\n",
    "```"
   ]
  },
  {
   "cell_type": "markdown",
   "id": "7a93ba56-10b1-444c-80d8-2794f9a98ed8",
   "metadata": {},
   "source": [
    "If you are just cloned the `bidsme` without installing using `pip`,\n",
    "you can run `bidsme` running:\n",
    "```bash\n",
    "python3 <installation path>/bidsme.py <subcommand> <options>\n",
    "```"
   ]
  },
  {
   "cell_type": "markdown",
   "id": "5fbbbe0a-7395-433a-bc7e-ebe7b3dc211e",
   "metadata": {
    "heading_collapsed": true,
    "jp-MarkdownHeadingCollapsed": true,
    "tags": []
   },
   "source": [
    "## 4 - Getting online help"
   ]
  },
  {
   "cell_type": "markdown",
   "id": "5e43b9a6-925f-4255-a6df-32af11df0e9b",
   "metadata": {},
   "source": [
    "### 1 - From docstring"
   ]
  },
  {
   "cell_type": "markdown",
   "id": "d4638b85-43f6-47e9-8f1a-a771b35c3226",
   "metadata": {},
   "source": [
    "For online help for a given bidsme function you can acess the docstring:"
   ]
  },
  {
   "cell_type": "code",
   "execution_count": null,
   "id": "2c0d6758-51c9-463e-93fc-b98f0d5692c1",
   "metadata": {},
   "outputs": [],
   "source": [
    "help(bidsme.init)"
   ]
  },
  {
   "cell_type": "markdown",
   "id": "9184d748-2364-445a-b14e-13d3b802ed11",
   "metadata": {},
   "source": [
    "For more consize signature of the function, you can use the `signature` function:"
   ]
  },
  {
   "cell_type": "code",
   "execution_count": null,
   "id": "04bc2748-f727-43df-9c9b-686cd476cc83",
   "metadata": {},
   "outputs": [],
   "source": [
    "from inspect import signature\n",
    "signature(bidsme.prepare)"
   ]
  },
  {
   "cell_type": "markdown",
   "id": "e87f0ae4-9f85-4872-b60e-a2c7945c5966",
   "metadata": {},
   "source": [
    "Or, if you are using `iPython` or `Jupyter`, you can get full info using `?`:"
   ]
  },
  {
   "cell_type": "code",
   "execution_count": null,
   "id": "7e81cd7b-cc45-496c-8331-18f31cdb410f",
   "metadata": {},
   "outputs": [],
   "source": [
    "?bidsme.mapper"
   ]
  },
  {
   "cell_type": "markdown",
   "id": "987268da-10b7-4793-adbd-efdf4978288a",
   "metadata": {},
   "source": [
    "### 2 - From command line"
   ]
  },
  {
   "cell_type": "markdown",
   "id": "00673545-dd91-4a7d-b28a-0315bf99362e",
   "metadata": {
    "heading_collapsed": true
   },
   "source": [
    "If you are using the command line interface to `bidsme`,\n",
    "you can use the `--help` option:"
   ]
  },
  {
   "cell_type": "markdown",
   "id": "0c903ba2-4afd-4aad-8563-6e9627667f6f",
   "metadata": {},
   "source": [
    "```bash\n",
    "> bidsme --help\n",
    "usage: bidsme [-h] [-c conf.yaml] [--conf-save] [-v]  ...\n",
    "\n",
    "Generic tool for bidsification of dataset\n",
    "\n",
    "optional arguments:\n",
    "  -h, --help            show this help message and exit\n",
    "  -c conf.yaml, --configuration conf.yaml\n",
    "                        Path to the configuration file (default: None)\n",
    "  --conf-save           Save/update configuration file with given options (default: False)\n",
    "  -v, --version         Show version and exit\n",
    "\n",
    "subcommands:\n",
    "  \n",
    "    prepare             Preparation of dataset for bidsification\n",
    "    process             Processing of prepared dataset\n",
    "    bidsify             Bidsification of prepared dataset\n",
    "    map                 Create/Adapt bidsmap.yaml file\n",
    "```"
   ]
  },
  {
   "cell_type": "markdown",
   "id": "1b20ffcc-f2a5-4ef6-95b2-cec1142b3445",
   "metadata": {},
   "source": [
    "It will provide a consise innformation to the options and main sib-commands."
   ]
  },
  {
   "cell_type": "markdown",
   "id": "36db7d82-27c5-4c60-9477-6767cf687d11",
   "metadata": {
    "heading_collapsed": true
   },
   "source": [
    "The online help for each sub-command is retrieved similarly: \n",
    "```\n",
    "bidsme <subcommand> --help\n",
    "```\n",
    "\n",
    "For example, for the `prepare` command:"
   ]
  }
 ],
 "metadata": {
  "kernelspec": {
   "display_name": "bidsme_env (Python)",
   "language": "python",
   "name": "bidsme_env"
  },
  "language_info": {
   "codemirror_mode": {
    "name": "ipython",
    "version": 3
   },
   "file_extension": ".py",
   "mimetype": "text/x-python",
   "name": "python",
   "nbconvert_exporter": "python",
   "pygments_lexer": "ipython3",
   "version": "3.8.10"
  }
 },
 "nbformat": 4,
 "nbformat_minor": 5
}
